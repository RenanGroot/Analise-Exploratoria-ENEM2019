{
 "cells": [
  {
   "cell_type": "markdown",
   "id": "9629f182",
   "metadata": {},
   "source": [
    "# Análise Exploratória"
   ]
  },
  {
   "cell_type": "markdown",
   "id": "97d9931d",
   "metadata": {},
   "source": [
    "A fins de estudo e treino, irei realizar uma análise exploratória dos dados do ENEM 2019. Apesar dessa análise não possuir uma pergunta especifica a ser respondida, pretendo focar nos dados relacionados ao desempenho dos inscritos e algumas características de seus respectivos ensinos médio. Além disso, planejo trabalhar apenas com potenciais vestibulandos do ENEM, retirando assim os treineiros desta análise."
   ]
  },
  {
   "cell_type": "markdown",
   "id": "705328fa",
   "metadata": {},
   "source": [
    "# ENEM 2019"
   ]
  },
  {
   "cell_type": "markdown",
   "id": "7c6882ae",
   "metadata": {},
   "source": [
    "### <i>Breve descrição do Enem</i>"
   ]
  },
  {
   "cell_type": "markdown",
   "id": "d7918ff2",
   "metadata": {},
   "source": [
    " O Exame Nacional do Ensino Médio (Enem) tem como objetivo avaliar o desempenho escolar dos estudantes ao término da educação básica. Em 2009, o exame aperfeiçoou sua metodologia e passou a ser utilizado como mecanismo de acesso à educação superior.\n",
    " \n",
    " As notas do Enem podem ser usadas para acesso ao Sistema de Seleção Unificada (Sisu) e ao Programa Universidade para Todos (ProUni). Além disso, os participantes do Enem podem pleitear financiamento estudantil em programas do governo, como o Fundo de Financiamento Estudantil (Fies). Os resultados do Enem possibilitam, ainda, o desenvolvimento de estudos e indicadores educacionais.\n",
    "\n",
    " Qualquer pessoa que já concluiu o ensino médio ou está concluindo a etapa pode fazer o Enem para acesso à educação superior. Os participantes que ainda não concluíram o ensino médio podem participar como “treineiros” e seus resultados no exame servem somente para autoavaliação de conhecimentos.\n",
    " \n",
    " A aplicação do Enem ocorre em dois dias. Os participantes fazem provas de quatro áreas de conhecimento: linguagens, códigos e suas tecnologias; ciências humanas e suas tecnologias; ciências da natureza e suas tecnologias; e matemática e suas tecnologias, que ao todo somam 180 questões objetivas. Os participantes também são avaliados por meio de uma redação, que exige o desenvolvimento de um texto dissertativo-argumentativo a partir de uma situação-problema."
   ]
  },
  {
   "cell_type": "markdown",
   "id": "4d07196e",
   "metadata": {},
   "source": [
    "### <i>Sobre os Dados</i>"
   ]
  },
  {
   "cell_type": "markdown",
   "id": "3711f39d",
   "metadata": {},
   "source": [
    "Base de dados retirada do Kaggle, através do link: https://www.kaggle.com/datasets/lauroliveira/enem-2019-dados-tratados\n",
    "\n",
    "<i>ENEM 2019 Dados Tratados</i><br>\n",
    "Autor: Lauro Oliveira"
   ]
  },
  {
   "cell_type": "markdown",
   "id": "3c0420bf",
   "metadata": {},
   "source": [
    "#### Dicionário de Dados\n",
    "| Coluna | Descrição |\n",
    "|--------|-----------|\n",
    "|*Inscricao* | É número de registro da inscrição do aluno no ENEM.|\n",
    "|*idade* | É a idade do inscrito em 2019.|\n",
    "|*sexo* | É a categoria de sexo do inscrito, sendo M para Masculino e F para Feminino|\n",
    "|*conclusao_ens_med* | É a categoria informando se o aluno está cursando, já concluiu ou não completou o Ensino médio. Temos os status Concluído, Cursando, Outros.|\n",
    "|*tipo_ens_med* | Qual o tipo de ensino médio cursado, sendo 1=”Sem Resposta”, 2=”Pública”, 3=”Privada”, 4=”Exterior”|\n",
    "|*treineiro* | Se a pessoa está fazendo a prova para Valer ou é apenas um teste. 1 para Sim e 0 para não.|\n",
    "|*cadeira_canhoto* | Se a pessoa pediu ou não uma cadeira para canhoto. 1 para Sim e 0 para Não.|\n",
    "|*gestante* | Se a pessoa é gestante ou não. 1 para Sim e 0 para Não.|\n",
    "|*idoso* | Se a pessoa é idoso ou não (inscritos com mais de 60 anos). 1 para Sim e 0 para Não.|\n",
    "|*celular_na_residencia* | Se há pelo menos 1 aparelho celular na residência do Inscrito ou não. 1 para Sim e 0 para Não.|\n",
    "|*internet_na_residencia* | Se há alguma forma de acesso à acesso a na residência do Inscrito ou não. 1 para Sim e 0 para Não.|\n",
    "|*pessoas_na_residencia* | Número de pessoas que vive na Residência do inscrito.|\n",
    "|*renda_mensal_familiar* | Faixa de renda familiar em que o inscrito se encontra.|\n",
    "|*nota_ct* | Nota referente a Ciências da natureza e suas tecnologias.|\n",
    "|*nota_ch* | Nota referente a Ciências humanas e suas tecnologias.|\n",
    "|*nota_lc* | Nota referente a Linguagens, códigos e suas tecnologias.|\n",
    "|*nota_mt* | Nota referente a Matemática e suas tecnologias.|\n",
    "|*nota_redacao* | Nota referente a redação.|"
   ]
  },
  {
   "cell_type": "code",
   "execution_count": 1,
   "id": "bded69a9",
   "metadata": {},
   "outputs": [
    {
     "name": "stdout",
     "output_type": "stream",
     "text": [
      "--Pacotes carregados!--\n",
      "Python versão: 3.9.7\n",
      "Pandas versão: 1.4.3\n",
      "Numpy versão: 1.21.5\n",
      "Matplotlib versão: 3.5.1\n",
      "Seaborn versão: 0.11.2\n"
     ]
    }
   ],
   "source": [
    "# Importando pacotes\n",
    "\n",
    "import pandas as pd\n",
    "import numpy as np\n",
    "import matplotlib\n",
    "import matplotlib.pyplot as plt\n",
    "import seaborn as sns\n",
    "\n",
    "from platform import python_version\n",
    "%matplotlib inline\n",
    "\n",
    "print(\"--Pacotes carregados!--\")\n",
    "print(\"Python versão: {}\".format(python_version()))\n",
    "print(\"Pandas versão: {}\".format(pd.__version__))\n",
    "print(\"Numpy versão: {}\".format(np.__version__))\n",
    "print(\"Matplotlib versão: {}\".format(matplotlib.__version__))\n",
    "print(\"Seaborn versão: {}\".format(sns.__version__))"
   ]
  },
  {
   "cell_type": "code",
   "execution_count": 2,
   "id": "b7146dcf",
   "metadata": {},
   "outputs": [],
   "source": [
    "# Lendo e carregando o dataset\n",
    "\n",
    "df = pd.read_csv(\"enem_2019.csv\",sep=\",\",low_memory=False)"
   ]
  },
  {
   "cell_type": "code",
   "execution_count": 3,
   "id": "9efc27c6",
   "metadata": {},
   "outputs": [
    {
     "name": "stdout",
     "output_type": "stream",
     "text": [
      "Este dataset possui 5095270 linhas e 21 colunas\n"
     ]
    }
   ],
   "source": [
    "# Número de linhas e colunas existentes no dataset\n",
    "\n",
    "print(\"Este dataset possui {} linhas e {} colunas\".format(df.shape[0],df.shape[1]))"
   ]
  },
  {
   "cell_type": "code",
   "execution_count": 4,
   "id": "36f78a02",
   "metadata": {
    "scrolled": true
   },
   "outputs": [
    {
     "data": {
      "text/plain": [
       "['inscricao',\n",
       " 'idade',\n",
       " 'sexo',\n",
       " 'conclusao_ens_med',\n",
       " 'tipo_ens_med',\n",
       " 'treineiro',\n",
       " 'cadeira_canhoto',\n",
       " 'gestante',\n",
       " 'idoso',\n",
       " 'celular_na_residencia',\n",
       " 'internet_na_residencia',\n",
       " 'pessoas_na_residencia',\n",
       " 'renda_mensal_familiar',\n",
       " 'nota_ct',\n",
       " 'nota_ch',\n",
       " 'nota_lc',\n",
       " 'nota_mt',\n",
       " 'nota_redacao',\n",
       " 'estado',\n",
       " 'municipio',\n",
       " 'municipio_id']"
      ]
     },
     "execution_count": 4,
     "metadata": {},
     "output_type": "execute_result"
    }
   ],
   "source": [
    "# Colunas existentes\n",
    "\n",
    "list(df.columns)"
   ]
  },
  {
   "cell_type": "code",
   "execution_count": 5,
   "id": "c32e3be8",
   "metadata": {
    "scrolled": true
   },
   "outputs": [
    {
     "name": "stdout",
     "output_type": "stream",
     "text": [
      "          inscricao         idade  tipo_ens_med     treineiro  \\\n",
      "count  5.095270e+06  5.095270e+06  5.095270e+06  5.095270e+06   \n",
      "mean   2.547636e+06  2.208743e+01  1.330606e+00  1.210275e-01   \n",
      "std    1.470878e+06  7.454970e+00  5.541871e-01  3.261593e-01   \n",
      "min    1.000000e+00  1.000000e+00  1.000000e+00  0.000000e+00   \n",
      "25%    1.273818e+06  1.800000e+01  1.000000e+00  0.000000e+00   \n",
      "50%    2.547636e+06  1.900000e+01  1.000000e+00  0.000000e+00   \n",
      "75%    3.821453e+06  2.400000e+01  2.000000e+00  0.000000e+00   \n",
      "max    5.095270e+06  9.400000e+01  3.000000e+00  1.000000e+00   \n",
      "\n",
      "       cadeira_canhoto      gestante         idoso  celular_na_residencia  \\\n",
      "count     5.095270e+06  5.095270e+06  5.095270e+06           5.095270e+06   \n",
      "mean      2.747646e-06  2.767272e-04  4.553243e-05           9.785411e-01   \n",
      "std       1.657600e-03  1.663282e-02  6.747619e-03           1.449084e-01   \n",
      "min       0.000000e+00  0.000000e+00  0.000000e+00           0.000000e+00   \n",
      "25%       0.000000e+00  0.000000e+00  0.000000e+00           1.000000e+00   \n",
      "50%       0.000000e+00  0.000000e+00  0.000000e+00           1.000000e+00   \n",
      "75%       0.000000e+00  0.000000e+00  0.000000e+00           1.000000e+00   \n",
      "max       1.000000e+00  1.000000e+00  1.000000e+00           1.000000e+00   \n",
      "\n",
      "       pessoas_na_residencia       nota_ct       nota_ch       nota_lc  \\\n",
      "count           5.095270e+06  3.710433e+06  3.923145e+06  3.923145e+06   \n",
      "mean            3.868090e+00  4.778241e+02  5.072487e+02  5.205177e+02   \n",
      "std             1.480990e+00  7.609774e+01  8.241163e+01  6.415065e+01   \n",
      "min             1.000000e+00  0.000000e+00  0.000000e+00  0.000000e+00   \n",
      "25%             3.000000e+00  4.178000e+02  4.479000e+02  4.835000e+02   \n",
      "50%             4.000000e+00  4.703000e+02  5.106000e+02  5.262000e+02   \n",
      "75%             5.000000e+00  5.332000e+02  5.666000e+02  5.653000e+02   \n",
      "max             2.000000e+01  8.609000e+02  8.351000e+02  8.017000e+02   \n",
      "\n",
      "            nota_mt  nota_redacao  municipio_id  \n",
      "count  3.710433e+06  3.923144e+06  5.095270e+06  \n",
      "mean   5.231241e+02  5.711883e+02  3.086472e+06  \n",
      "std    1.090637e+02  1.887633e+02  9.973604e+05  \n",
      "min    0.000000e+00  0.000000e+00  1.100015e+06  \n",
      "25%    4.351000e+02  4.800000e+02  2.405108e+06  \n",
      "50%    5.011000e+02  5.800000e+02  3.124203e+06  \n",
      "75%    5.978000e+02  6.800000e+02  3.549904e+06  \n",
      "max    9.855000e+02  1.000000e+03  5.300108e+06  \n"
     ]
    }
   ],
   "source": [
    "# Breve descrição estatística sobre os valores dentro do dataset\n",
    "\n",
    "print(df.describe())"
   ]
  },
  {
   "cell_type": "code",
   "execution_count": 6,
   "id": "abbd2322",
   "metadata": {},
   "outputs": [
    {
     "data": {
      "text/html": [
       "<div>\n",
       "<style scoped>\n",
       "    .dataframe tbody tr th:only-of-type {\n",
       "        vertical-align: middle;\n",
       "    }\n",
       "\n",
       "    .dataframe tbody tr th {\n",
       "        vertical-align: top;\n",
       "    }\n",
       "\n",
       "    .dataframe thead th {\n",
       "        text-align: right;\n",
       "    }\n",
       "</style>\n",
       "<table border=\"1\" class=\"dataframe\">\n",
       "  <thead>\n",
       "    <tr style=\"text-align: right;\">\n",
       "      <th></th>\n",
       "      <th>inscricao</th>\n",
       "      <th>idade</th>\n",
       "      <th>sexo</th>\n",
       "      <th>conclusao_ens_med</th>\n",
       "      <th>tipo_ens_med</th>\n",
       "      <th>treineiro</th>\n",
       "      <th>cadeira_canhoto</th>\n",
       "      <th>gestante</th>\n",
       "      <th>idoso</th>\n",
       "      <th>celular_na_residencia</th>\n",
       "      <th>...</th>\n",
       "      <th>pessoas_na_residencia</th>\n",
       "      <th>renda_mensal_familiar</th>\n",
       "      <th>nota_ct</th>\n",
       "      <th>nota_ch</th>\n",
       "      <th>nota_lc</th>\n",
       "      <th>nota_mt</th>\n",
       "      <th>nota_redacao</th>\n",
       "      <th>estado</th>\n",
       "      <th>municipio</th>\n",
       "      <th>municipio_id</th>\n",
       "    </tr>\n",
       "  </thead>\n",
       "  <tbody>\n",
       "    <tr>\n",
       "      <th>0</th>\n",
       "      <td>1</td>\n",
       "      <td>21</td>\n",
       "      <td>M</td>\n",
       "      <td>Concluído</td>\n",
       "      <td>1</td>\n",
       "      <td>0</td>\n",
       "      <td>0</td>\n",
       "      <td>0</td>\n",
       "      <td>0</td>\n",
       "      <td>1</td>\n",
       "      <td>...</td>\n",
       "      <td>7</td>\n",
       "      <td>&lt;= 998.00</td>\n",
       "      <td>472.9</td>\n",
       "      <td>466.0</td>\n",
       "      <td>497.3</td>\n",
       "      <td>369.1</td>\n",
       "      <td>780.0</td>\n",
       "      <td>PA</td>\n",
       "      <td>SANTARÉM</td>\n",
       "      <td>1506807</td>\n",
       "    </tr>\n",
       "    <tr>\n",
       "      <th>1</th>\n",
       "      <td>2</td>\n",
       "      <td>16</td>\n",
       "      <td>F</td>\n",
       "      <td>Cursando</td>\n",
       "      <td>1</td>\n",
       "      <td>1</td>\n",
       "      <td>0</td>\n",
       "      <td>0</td>\n",
       "      <td>0</td>\n",
       "      <td>1</td>\n",
       "      <td>...</td>\n",
       "      <td>5</td>\n",
       "      <td>&lt;= 998.00</td>\n",
       "      <td>358.9</td>\n",
       "      <td>495.4</td>\n",
       "      <td>482.3</td>\n",
       "      <td>416.5</td>\n",
       "      <td>600.0</td>\n",
       "      <td>PA</td>\n",
       "      <td>MÃE DO RIO</td>\n",
       "      <td>1504059</td>\n",
       "    </tr>\n",
       "    <tr>\n",
       "      <th>2</th>\n",
       "      <td>3</td>\n",
       "      <td>18</td>\n",
       "      <td>F</td>\n",
       "      <td>Cursando</td>\n",
       "      <td>3</td>\n",
       "      <td>0</td>\n",
       "      <td>0</td>\n",
       "      <td>0</td>\n",
       "      <td>0</td>\n",
       "      <td>1</td>\n",
       "      <td>...</td>\n",
       "      <td>3</td>\n",
       "      <td>998.00 até 1497.00</td>\n",
       "      <td>574.2</td>\n",
       "      <td>538.7</td>\n",
       "      <td>582.6</td>\n",
       "      <td>571.5</td>\n",
       "      <td>640.0</td>\n",
       "      <td>PA</td>\n",
       "      <td>PARAGOMINAS</td>\n",
       "      <td>1505502</td>\n",
       "    </tr>\n",
       "    <tr>\n",
       "      <th>3</th>\n",
       "      <td>4</td>\n",
       "      <td>23</td>\n",
       "      <td>M</td>\n",
       "      <td>Cursando</td>\n",
       "      <td>2</td>\n",
       "      <td>0</td>\n",
       "      <td>0</td>\n",
       "      <td>0</td>\n",
       "      <td>0</td>\n",
       "      <td>1</td>\n",
       "      <td>...</td>\n",
       "      <td>3</td>\n",
       "      <td>998.00 até 1497.00</td>\n",
       "      <td>NaN</td>\n",
       "      <td>NaN</td>\n",
       "      <td>NaN</td>\n",
       "      <td>NaN</td>\n",
       "      <td>NaN</td>\n",
       "      <td>PA</td>\n",
       "      <td>SÃO SEBASTIÃO DA BOA VISTA</td>\n",
       "      <td>1507706</td>\n",
       "    </tr>\n",
       "    <tr>\n",
       "      <th>4</th>\n",
       "      <td>5</td>\n",
       "      <td>23</td>\n",
       "      <td>M</td>\n",
       "      <td>Concluído</td>\n",
       "      <td>1</td>\n",
       "      <td>0</td>\n",
       "      <td>0</td>\n",
       "      <td>0</td>\n",
       "      <td>0</td>\n",
       "      <td>1</td>\n",
       "      <td>...</td>\n",
       "      <td>5</td>\n",
       "      <td>998.00 até 1497.00</td>\n",
       "      <td>NaN</td>\n",
       "      <td>NaN</td>\n",
       "      <td>NaN</td>\n",
       "      <td>NaN</td>\n",
       "      <td>NaN</td>\n",
       "      <td>PA</td>\n",
       "      <td>JURUTI</td>\n",
       "      <td>1503903</td>\n",
       "    </tr>\n",
       "  </tbody>\n",
       "</table>\n",
       "<p>5 rows × 21 columns</p>\n",
       "</div>"
      ],
      "text/plain": [
       "   inscricao  idade sexo conclusao_ens_med  tipo_ens_med  treineiro  \\\n",
       "0          1     21    M         Concluído             1          0   \n",
       "1          2     16    F          Cursando             1          1   \n",
       "2          3     18    F          Cursando             3          0   \n",
       "3          4     23    M          Cursando             2          0   \n",
       "4          5     23    M         Concluído             1          0   \n",
       "\n",
       "   cadeira_canhoto  gestante  idoso  celular_na_residencia  ...  \\\n",
       "0                0         0      0                      1  ...   \n",
       "1                0         0      0                      1  ...   \n",
       "2                0         0      0                      1  ...   \n",
       "3                0         0      0                      1  ...   \n",
       "4                0         0      0                      1  ...   \n",
       "\n",
       "  pessoas_na_residencia  renda_mensal_familiar nota_ct  nota_ch  nota_lc  \\\n",
       "0                     7              <= 998.00   472.9    466.0    497.3   \n",
       "1                     5              <= 998.00   358.9    495.4    482.3   \n",
       "2                     3     998.00 até 1497.00   574.2    538.7    582.6   \n",
       "3                     3     998.00 até 1497.00     NaN      NaN      NaN   \n",
       "4                     5     998.00 até 1497.00     NaN      NaN      NaN   \n",
       "\n",
       "   nota_mt  nota_redacao  estado                   municipio municipio_id  \n",
       "0    369.1         780.0      PA                    SANTARÉM      1506807  \n",
       "1    416.5         600.0      PA                  MÃE DO RIO      1504059  \n",
       "2    571.5         640.0      PA                 PARAGOMINAS      1505502  \n",
       "3      NaN           NaN      PA  SÃO SEBASTIÃO DA BOA VISTA      1507706  \n",
       "4      NaN           NaN      PA                      JURUTI      1503903  \n",
       "\n",
       "[5 rows x 21 columns]"
      ]
     },
     "execution_count": 6,
     "metadata": {},
     "output_type": "execute_result"
    }
   ],
   "source": [
    "# Print das 5 primeiras linhas do dataset\n",
    "\n",
    "df.head()"
   ]
  },
  {
   "cell_type": "markdown",
   "id": "d6d9f5e6",
   "metadata": {},
   "source": [
    "### Tratando os dados que serão utilizados"
   ]
  },
  {
   "cell_type": "markdown",
   "id": "cc547fd7",
   "metadata": {},
   "source": [
    "Conforme descrito no início da análise, para seguir com o foco no desempenho e excluir os treineiros, irei descartar as colunas \"inscricao\",\"conclusao_ens_med\",\"cadeira_canhoto\",\"gestante\",\"idoso\",\"celular_na_residencia\" e \"pessoas_na_residencia\"."
   ]
  },
  {
   "cell_type": "code",
   "execution_count": 7,
   "id": "1b7dd04b",
   "metadata": {},
   "outputs": [],
   "source": [
    "# Retirando colunas a serem descartadas\n",
    "\n",
    "colunas_excluidas = [\"inscricao\",\"conclusao_ens_med\",\"cadeira_canhoto\",\"gestante\",\"idoso\",\"celular_na_residencia\",\n",
    "                     \"pessoas_na_residencia\"]\n",
    "enem = df.copy()\n",
    "\n",
    "enem = enem.drop(colunas_excluidas, axis=1)"
   ]
  },
  {
   "cell_type": "code",
   "execution_count": 8,
   "id": "eaa7e523",
   "metadata": {},
   "outputs": [
    {
     "name": "stdout",
     "output_type": "stream",
     "text": [
      "Este dataset possui 4478602 linhas e 13 colunas\n"
     ]
    }
   ],
   "source": [
    "# Retirando os treineiros\n",
    "\n",
    "enem = enem.drop(enem[enem.treineiro == 1].index)\n",
    "enem = enem.drop([\"treineiro\"], axis=1)\n",
    "\n",
    "print(\"Este dataset possui {} linhas e {} colunas\".format(enem.shape[0],enem.shape[1]))"
   ]
  },
  {
   "cell_type": "markdown",
   "id": "202b43eb",
   "metadata": {},
   "source": [
    "#### Dados Nulos"
   ]
  },
  {
   "cell_type": "code",
   "execution_count": 9,
   "id": "e18e7745",
   "metadata": {},
   "outputs": [
    {
     "data": {
      "text/plain": [
       "idade                           0\n",
       "sexo                            0\n",
       "tipo_ens_med                    0\n",
       "internet_na_residencia          0\n",
       "renda_mensal_familiar           0\n",
       "nota_ct                   1298740\n",
       "nota_ch                   1118873\n",
       "nota_lc                   1118873\n",
       "nota_mt                   1298740\n",
       "nota_redacao              1118874\n",
       "estado                          0\n",
       "municipio                       0\n",
       "municipio_id                    0\n",
       "dtype: int64"
      ]
     },
     "execution_count": 9,
     "metadata": {},
     "output_type": "execute_result"
    }
   ],
   "source": [
    "# Verificando se há valores nulos nas colunas\n",
    "\n",
    "enem.isnull().sum()"
   ]
  },
  {
   "cell_type": "markdown",
   "id": "5bbe2aec",
   "metadata": {},
   "source": [
    " Ao verificar os valores nulos presentes no dataset, pode-se observar que eles estão presentes apenas nas colunas representante das notas das provas. Interessante notar que o mesmo número de valores nulos das notas de Ciências da Natureza (nota_ct), é o de valores nulos das notas de Matemática (nota_mt); assim como o número de valores nulos de Ciências Humanas (nota_ch), é o de valores nulos das notas de Linguagens (nota_lc) e Redação (nota_redacao).<br> E, ao analisar a dinâmica dos dois dias de prova, em que as provas de Ciências da Natureza e Matemática ocorrem em um dia, e as restantes no outro; podemos concluir que esses valores nulos são referentes pessoas que deixaram de fazer uma, ou as duas, provas. Assim sendo, optei por exclui-los da análise e lidar apenas com inscritos que realizaram os dois dias de prova."
   ]
  },
  {
   "cell_type": "code",
   "execution_count": 10,
   "id": "635d7d04",
   "metadata": {},
   "outputs": [],
   "source": [
    "# Dropando valores nulos\n",
    "\n",
    "enem = enem.dropna()"
   ]
  },
  {
   "cell_type": "markdown",
   "id": "b6830b83",
   "metadata": {},
   "source": [
    "#### Nota Geral e Nota Objetivas\n",
    "\n",
    "Escolhi criar duas novas colunas para o dataset:<br> Uma chamada <b>\"nota_objetivas\"</b>, calculada a partir da média das notas de todas as provas menos redação;<br>\n",
    "Uma chamada <b>\"nota_geral\"</b> calculada a partir da média de todas as provas incluindo redação."
   ]
  },
  {
   "cell_type": "code",
   "execution_count": 11,
   "id": "0336affc",
   "metadata": {},
   "outputs": [
    {
     "data": {
      "text/html": [
       "<div>\n",
       "<style scoped>\n",
       "    .dataframe tbody tr th:only-of-type {\n",
       "        vertical-align: middle;\n",
       "    }\n",
       "\n",
       "    .dataframe tbody tr th {\n",
       "        vertical-align: top;\n",
       "    }\n",
       "\n",
       "    .dataframe thead th {\n",
       "        text-align: right;\n",
       "    }\n",
       "</style>\n",
       "<table border=\"1\" class=\"dataframe\">\n",
       "  <thead>\n",
       "    <tr style=\"text-align: right;\">\n",
       "      <th></th>\n",
       "      <th>idade</th>\n",
       "      <th>sexo</th>\n",
       "      <th>tipo_ens_med</th>\n",
       "      <th>internet_na_residencia</th>\n",
       "      <th>renda_mensal_familiar</th>\n",
       "      <th>nota_redacao</th>\n",
       "      <th>estado</th>\n",
       "      <th>municipio</th>\n",
       "      <th>municipio_id</th>\n",
       "      <th>nota_objetivas</th>\n",
       "      <th>nota_geral</th>\n",
       "    </tr>\n",
       "  </thead>\n",
       "  <tbody>\n",
       "    <tr>\n",
       "      <th>0</th>\n",
       "      <td>21</td>\n",
       "      <td>M</td>\n",
       "      <td>1</td>\n",
       "      <td>A</td>\n",
       "      <td>&lt;= 998.00</td>\n",
       "      <td>780.0</td>\n",
       "      <td>PA</td>\n",
       "      <td>SANTARÉM</td>\n",
       "      <td>1506807</td>\n",
       "      <td>451.325</td>\n",
       "      <td>615.6625</td>\n",
       "    </tr>\n",
       "    <tr>\n",
       "      <th>2</th>\n",
       "      <td>18</td>\n",
       "      <td>F</td>\n",
       "      <td>3</td>\n",
       "      <td>B</td>\n",
       "      <td>998.00 até 1497.00</td>\n",
       "      <td>640.0</td>\n",
       "      <td>PA</td>\n",
       "      <td>PARAGOMINAS</td>\n",
       "      <td>1505502</td>\n",
       "      <td>566.750</td>\n",
       "      <td>603.3750</td>\n",
       "    </tr>\n",
       "    <tr>\n",
       "      <th>5</th>\n",
       "      <td>31</td>\n",
       "      <td>M</td>\n",
       "      <td>1</td>\n",
       "      <td>A</td>\n",
       "      <td>998.00 até 1497.00</td>\n",
       "      <td>580.0</td>\n",
       "      <td>PA</td>\n",
       "      <td>ANANINDEUA</td>\n",
       "      <td>1500800</td>\n",
       "      <td>575.475</td>\n",
       "      <td>577.7375</td>\n",
       "    </tr>\n",
       "    <tr>\n",
       "      <th>6</th>\n",
       "      <td>30</td>\n",
       "      <td>F</td>\n",
       "      <td>1</td>\n",
       "      <td>B</td>\n",
       "      <td>998.00 até 1497.00</td>\n",
       "      <td>360.0</td>\n",
       "      <td>PA</td>\n",
       "      <td>MARABÁ</td>\n",
       "      <td>1504208</td>\n",
       "      <td>483.325</td>\n",
       "      <td>421.6625</td>\n",
       "    </tr>\n",
       "    <tr>\n",
       "      <th>7</th>\n",
       "      <td>26</td>\n",
       "      <td>F</td>\n",
       "      <td>2</td>\n",
       "      <td>A</td>\n",
       "      <td>&lt;= 998.00</td>\n",
       "      <td>480.0</td>\n",
       "      <td>PA</td>\n",
       "      <td>BELÉM</td>\n",
       "      <td>1501402</td>\n",
       "      <td>409.325</td>\n",
       "      <td>444.6625</td>\n",
       "    </tr>\n",
       "    <tr>\n",
       "      <th>...</th>\n",
       "      <td>...</td>\n",
       "      <td>...</td>\n",
       "      <td>...</td>\n",
       "      <td>...</td>\n",
       "      <td>...</td>\n",
       "      <td>...</td>\n",
       "      <td>...</td>\n",
       "      <td>...</td>\n",
       "      <td>...</td>\n",
       "      <td>...</td>\n",
       "      <td>...</td>\n",
       "    </tr>\n",
       "    <tr>\n",
       "      <th>5095259</th>\n",
       "      <td>22</td>\n",
       "      <td>F</td>\n",
       "      <td>1</td>\n",
       "      <td>B</td>\n",
       "      <td>1996.00 até 2495.00</td>\n",
       "      <td>480.0</td>\n",
       "      <td>MG</td>\n",
       "      <td>RIBEIRÃO DAS NEVES</td>\n",
       "      <td>3154606</td>\n",
       "      <td>465.925</td>\n",
       "      <td>472.9625</td>\n",
       "    </tr>\n",
       "    <tr>\n",
       "      <th>5095261</th>\n",
       "      <td>27</td>\n",
       "      <td>F</td>\n",
       "      <td>1</td>\n",
       "      <td>B</td>\n",
       "      <td>&lt;= 998.00</td>\n",
       "      <td>280.0</td>\n",
       "      <td>BA</td>\n",
       "      <td>SALVADOR</td>\n",
       "      <td>2927408</td>\n",
       "      <td>484.925</td>\n",
       "      <td>382.4625</td>\n",
       "    </tr>\n",
       "    <tr>\n",
       "      <th>5095262</th>\n",
       "      <td>22</td>\n",
       "      <td>F</td>\n",
       "      <td>1</td>\n",
       "      <td>B</td>\n",
       "      <td>998.00 até 1497.00</td>\n",
       "      <td>400.0</td>\n",
       "      <td>BA</td>\n",
       "      <td>SANTO AMARO</td>\n",
       "      <td>2928604</td>\n",
       "      <td>525.225</td>\n",
       "      <td>462.6125</td>\n",
       "    </tr>\n",
       "    <tr>\n",
       "      <th>5095263</th>\n",
       "      <td>32</td>\n",
       "      <td>M</td>\n",
       "      <td>1</td>\n",
       "      <td>B</td>\n",
       "      <td>998.00 até 1497.00</td>\n",
       "      <td>580.0</td>\n",
       "      <td>BA</td>\n",
       "      <td>CANSANÇÃO</td>\n",
       "      <td>2906808</td>\n",
       "      <td>496.775</td>\n",
       "      <td>538.3875</td>\n",
       "    </tr>\n",
       "    <tr>\n",
       "      <th>5095269</th>\n",
       "      <td>25</td>\n",
       "      <td>F</td>\n",
       "      <td>1</td>\n",
       "      <td>B</td>\n",
       "      <td>&lt;= 998.00</td>\n",
       "      <td>280.0</td>\n",
       "      <td>BA</td>\n",
       "      <td>ITABUNA</td>\n",
       "      <td>2914802</td>\n",
       "      <td>467.125</td>\n",
       "      <td>373.5625</td>\n",
       "    </tr>\n",
       "  </tbody>\n",
       "</table>\n",
       "<p>3174308 rows × 11 columns</p>\n",
       "</div>"
      ],
      "text/plain": [
       "         idade sexo  tipo_ens_med internet_na_residencia  \\\n",
       "0           21    M             1                      A   \n",
       "2           18    F             3                      B   \n",
       "5           31    M             1                      A   \n",
       "6           30    F             1                      B   \n",
       "7           26    F             2                      A   \n",
       "...        ...  ...           ...                    ...   \n",
       "5095259     22    F             1                      B   \n",
       "5095261     27    F             1                      B   \n",
       "5095262     22    F             1                      B   \n",
       "5095263     32    M             1                      B   \n",
       "5095269     25    F             1                      B   \n",
       "\n",
       "        renda_mensal_familiar  nota_redacao estado           municipio  \\\n",
       "0                   <= 998.00         780.0     PA            SANTARÉM   \n",
       "2          998.00 até 1497.00         640.0     PA         PARAGOMINAS   \n",
       "5          998.00 até 1497.00         580.0     PA          ANANINDEUA   \n",
       "6          998.00 até 1497.00         360.0     PA              MARABÁ   \n",
       "7                   <= 998.00         480.0     PA               BELÉM   \n",
       "...                       ...           ...    ...                 ...   \n",
       "5095259   1996.00 até 2495.00         480.0     MG  RIBEIRÃO DAS NEVES   \n",
       "5095261             <= 998.00         280.0     BA            SALVADOR   \n",
       "5095262    998.00 até 1497.00         400.0     BA         SANTO AMARO   \n",
       "5095263    998.00 até 1497.00         580.0     BA           CANSANÇÃO   \n",
       "5095269             <= 998.00         280.0     BA             ITABUNA   \n",
       "\n",
       "         municipio_id  nota_objetivas  nota_geral  \n",
       "0             1506807         451.325    615.6625  \n",
       "2             1505502         566.750    603.3750  \n",
       "5             1500800         575.475    577.7375  \n",
       "6             1504208         483.325    421.6625  \n",
       "7             1501402         409.325    444.6625  \n",
       "...               ...             ...         ...  \n",
       "5095259       3154606         465.925    472.9625  \n",
       "5095261       2927408         484.925    382.4625  \n",
       "5095262       2928604         525.225    462.6125  \n",
       "5095263       2906808         496.775    538.3875  \n",
       "5095269       2914802         467.125    373.5625  \n",
       "\n",
       "[3174308 rows x 11 columns]"
      ]
     },
     "execution_count": 11,
     "metadata": {},
     "output_type": "execute_result"
    }
   ],
   "source": [
    "# Criando uma nota das questões objetivas e uma nota geral\n",
    "\n",
    "enem[\"nota_objetivas\"] = enem[[\"nota_ct\", \"nota_ch\", \"nota_lc\", \"nota_mt\"]].mean(axis=1)\n",
    "enem[\"nota_geral\"] = enem[[\"nota_objetivas\",\"nota_redacao\"]].mean(axis=1)\n",
    "\n",
    "# Excluindo notas ct, ch, lc, mt\n",
    "enem = enem.drop([\"nota_ct\", \"nota_ch\", \"nota_lc\", \"nota_mt\"], axis=1)\n",
    "\n",
    "# Olhando DataFrame gerado\n",
    "enem"
   ]
  },
  {
   "cell_type": "code",
   "execution_count": 12,
   "id": "6621d666",
   "metadata": {},
   "outputs": [],
   "source": [
    "# Corrigindo a coluna internet_na_residencia, onde há os valores de 'A' e 'B' ao invés de 0 e 1\n",
    "\n",
    "enem = enem.replace({\"A\":\"Sim\", \"B\":\"Nao\"})"
   ]
  },
  {
   "cell_type": "code",
   "execution_count": 13,
   "id": "cb025f07",
   "metadata": {},
   "outputs": [],
   "source": [
    "# Categorizando a coluna tipo_ens_med por valores de texto ao inves de numéricos\n",
    "\n",
    "enem.tipo_ens_med = enem.tipo_ens_med.replace({1:\"Sem Resposta\", 2:\"Publica\", 3:\"Particular\"})"
   ]
  },
  {
   "cell_type": "code",
   "execution_count": 14,
   "id": "bba686ff",
   "metadata": {},
   "outputs": [
    {
     "name": "stdout",
     "output_type": "stream",
     "text": [
      "Serão analisados os dados de 3174308 inscritos\n"
     ]
    }
   ],
   "source": [
    "# Informando quantidade de inscritos resultantes do tratamento dos dados\n",
    "\n",
    "print(\"Serão analisados os dados de {} inscritos\".format(enem.shape[0]))"
   ]
  },
  {
   "cell_type": "markdown",
   "id": "9d9b885e",
   "metadata": {},
   "source": [
    "## Explorando os dados"
   ]
  },
  {
   "cell_type": "markdown",
   "id": "2fcd32b8",
   "metadata": {},
   "source": [
    "\n",
    "### Distribuição das notas objetivas, notas de redação e notas gerais"
   ]
  },
  {
   "cell_type": "code",
   "execution_count": 15,
   "id": "4c6ff744",
   "metadata": {},
   "outputs": [
    {
     "data": {
      "image/png": "[encoded data removed]",
      "text/plain": [
       "<Figure size 896x504 with 1 Axes>"
      ]
     },
     "metadata": {
      "needs_background": "light"
     },
     "output_type": "display_data"
    }
   ],
   "source": [
    "# Criando o gráfico\n",
    "dist = sns.displot(data=enem, x=\"nota_objetivas\",height=7, aspect=16/9)\n",
    "\n",
    "# Alterando titulos\n",
    "dist.set(title=\"Distribuição das Notas Objetivas\", xlabel=\"Nota Objetiva\", ylabel=\"Candidatos\")\n",
    "\n",
    "# Mostrando o gráfico\n",
    "plt.show()"
   ]
  },
  {
   "cell_type": "markdown",
   "id": "f79e5298",
   "metadata": {},
   "source": [
    "O gráfico revela uma distribuição das notas objetivas com uma acentuação na frequência das notas na faixa de 425 á 500 aproximadamente."
   ]
  },
  {
   "cell_type": "code",
   "execution_count": 16,
   "id": "b428c6f9",
   "metadata": {},
   "outputs": [
    {
     "data": {
      "image/png": "[encoded data removed]",
      "text/plain": [
       "<Figure size 896x504 with 1 Axes>"
      ]
     },
     "metadata": {
      "needs_background": "light"
     },
     "output_type": "display_data"
    }
   ],
   "source": [
    "# Criando o gráfico\n",
    "dist = sns.displot(data=enem, x=\"nota_redacao\",height=7, aspect=16/9)\n",
    "\n",
    "# Alterando titulos\n",
    "dist.set(title=\"Distribuição das Notas Redação\", xlabel=\"Nota Redação\", ylabel=\"Candidatos\")\n",
    "\n",
    "# Mostrando o gráfico\n",
    "plt.show()"
   ]
  },
  {
   "cell_type": "markdown",
   "id": "995f0627",
   "metadata": {},
   "source": [
    "O gráfico revela uma distribuição das notas de redação com faixas mais determinadas visualmente, isso ocorre devido a nota de redação ser dada sempre respeitando um multiplo de 50 (0,50,100,150...900,950,1000). É bem visível a quantidade de candidatos que obtiveram nota 0 na redação. Diferente das notas objetivas, as notas de redação parecem mais ditribuidas ao longo da amplitude de notas possíveis."
   ]
  },
  {
   "cell_type": "code",
   "execution_count": 17,
   "id": "e8c58132",
   "metadata": {},
   "outputs": [
    {
     "name": "stdout",
     "output_type": "stream",
     "text": [
      "Sendo mais especifíco, houveram 84699 candidatos que tiraram 0 em redação.\n"
     ]
    }
   ],
   "source": [
    "print(\"Sendo mais especifíco, houveram \" + str(enem[enem.nota_redacao==0].index.size) + \" candidatos que tiraram 0 em redação.\")"
   ]
  },
  {
   "cell_type": "code",
   "execution_count": 18,
   "id": "038e539b",
   "metadata": {},
   "outputs": [
    {
     "data": {
      "image/png": "[encoded data removed]",
      "text/plain": [
       "<Figure size 896x504 with 1 Axes>"
      ]
     },
     "metadata": {
      "needs_background": "light"
     },
     "output_type": "display_data"
    }
   ],
   "source": [
    "# Criando o gráfico\n",
    "dist = sns.displot(data=enem, x=\"nota_geral\",height=7, aspect=16/9)\n",
    "\n",
    "# Alterando titulos\n",
    "dist.set(title=\"Distribuição das Notas Gerais\", xlabel=\"Nota Geral\", ylabel=\"Candidatos\")\n",
    "\n",
    "# Mostrando o gráfico\n",
    "plt.show()"
   ]
  },
  {
   "cell_type": "markdown",
   "id": "4058f8a8",
   "metadata": {},
   "source": [
    "O gráfico revela uma distribuição próxima a uma normal das notas gerais, observando-se uma grande parcela das notas na faixa de 400 á 700. Além disso, há uma distribuição em forma de \"sino\" próxima as notas de 200 á 250.\n",
    "Esse aumento da frenquência próximo as notas de 200, muito provavelmente, se deve ao calculo da nota geral se der pela média entre a nota das objetivas e a nota de redação. E como houve uma frequência notória de notas 0 em redação, algumas notas gerais foram calculadas dividino a nota das objetivas por 2."
   ]
  },
  {
   "cell_type": "markdown",
   "id": "4682a6cb",
   "metadata": {},
   "source": [
    "Mais adiante separarei algumas relações, em tópicos, a fim de facilitar as análises."
   ]
  },
  {
   "cell_type": "markdown",
   "id": "a43233ee",
   "metadata": {},
   "source": [
    "### Relação entre Nota da Redação e Nota Objetiva"
   ]
  },
  {
   "cell_type": "code",
   "execution_count": 19,
   "id": "12337f37",
   "metadata": {},
   "outputs": [
    {
     "data": {
      "image/png": "[encoded data removed]",
      "text/plain": [
       "<Figure size 896x504 with 1 Axes>"
      ]
     },
     "metadata": {
      "needs_background": "light"
     },
     "output_type": "display_data"
    }
   ],
   "source": [
    "# Criando gráfico\n",
    "rel_notas = sns.relplot(x=\"nota_objetivas\", y=\"nota_redacao\", data=enem, height=7, aspect=16/9)\n",
    "\n",
    "# Alterando titulos\n",
    "rel_notas.set(title=\"Nota Redação x Nota Objetiva\", xlabel=\"Nota Prova Objetiva\", ylabel=\"Nota Redação\")\n",
    "\n",
    "# Mostrando gráfico\n",
    "plt.show()"
   ]
  },
  {
   "cell_type": "markdown",
   "id": "99abe0e3",
   "metadata": {},
   "source": [
    "Observando o gráfico é dificil interpretar se há alguma correlação entre as Notas Objetivas e de Redação, isso devido a quantidade de dados que estão sendo utilizados."
   ]
  },
  {
   "cell_type": "code",
   "execution_count": 20,
   "id": "b9a2e215",
   "metadata": {},
   "outputs": [
    {
     "data": {
      "image/png": "[encoded data removed]",
      "text/plain": [
       "<Figure size 504x504 with 3 Axes>"
      ]
     },
     "metadata": {
      "needs_background": "light"
     },
     "output_type": "display_data"
    }
   ],
   "source": [
    "# Criando gráfico\n",
    "joint_notas = sns.jointplot(x=\"nota_objetivas\", y=\"nota_redacao\", data=enem, kind=\"hex\", height=7)\n",
    "\n",
    "# Alterando titulos\n",
    "joint_notas.set_axis_labels(\"Notas Prova Objetiva\", \"Notas Redação\", fontsize=\"large\", fontweight=\"bold\")\n",
    "#joint_notas.set(xlabel=\"Nota Prova Objetiva\", ylabel=\"Nota Redação\")\n",
    "\n",
    "# Mostrando gráfico\n",
    "plt.show()"
   ]
  },
  {
   "cell_type": "markdown",
   "id": "b46885c4",
   "metadata": {},
   "source": [
    "Para contornar a dificuldade de inter´retação do gráfico anterior, optei por utilizar um gráfico de compartimentação hexagonal, em que os hexágonos representam a densidade dos dados (quanto mais escuro mais dados naquele \"compartimento\"). Agora, aparenta haver uma correlação entre as notas, ao observar uma ligeira inclinação dos dados, a partir dos 400 pontos.\n",
    "\n",
    "Para confirmar e mensurar essa correlação utilizarei do cálculo do coeficiente de correlação de Pearson."
   ]
  },
  {
   "cell_type": "code",
   "execution_count": 21,
   "id": "4f31a5e5",
   "metadata": {},
   "outputs": [
    {
     "name": "stdout",
     "output_type": "stream",
     "text": [
      "Coeficiente de correlação de Pearson entre a Nota da Prova Objetiva e a Nota da Redação: 0.61\n"
     ]
    }
   ],
   "source": [
    "# Calculando a correlação entre Nota da Prova Objetiva e Nota Redação\n",
    "corr_ng_no = enem.nota_objetivas.corr(enem.nota_redacao, method=\"pearson\")\n",
    "\n",
    "print(\"Coeficiente de correlação de Pearson entre a Nota da Prova Objetiva e a Nota da Redação: {:.2f}\".format(corr_ng_no))"
   ]
  },
  {
   "cell_type": "markdown",
   "id": "597640da",
   "metadata": {},
   "source": [
    "A partir do coeficiente de correlação pode-se afirmar que há uma <b>correlação moderada</b> entre as variáveis analisadas."
   ]
  },
  {
   "cell_type": "markdown",
   "id": "3245c1e3",
   "metadata": {},
   "source": [
    "Com o intuito de explorar um pouco mais essa correlação, irei recalcular este coeficiente de correlação porém excluindo as redações que tiraram 0."
   ]
  },
  {
   "cell_type": "code",
   "execution_count": 22,
   "id": "d577747e",
   "metadata": {},
   "outputs": [
    {
     "name": "stdout",
     "output_type": "stream",
     "text": [
      "O novo coeficiente de correlação, com exclusão dos alunos que tirarm 0 em redação, é de: 0.63\n"
     ]
    }
   ],
   "source": [
    "# Criando um novo dataframe com exclusão dos candidatos que tiraram 0 na redação\n",
    "enem_redval = enem.copy()\n",
    "enem_redval = enem_redval.drop(enem_redval[enem_redval.nota_redacao == 0].index)\n",
    "\n",
    "# Calculando a correlação entre Nota da Prova Objetiva e Nota Redação, porém excluindo\n",
    "#  as notas 0 de redação\n",
    "corr_ng_no = enem_redval.nota_objetivas.corr(enem_redval.nota_redacao, method=\"pearson\")\n",
    "\n",
    "print(\"O novo coeficiente de correlação, com exclusão dos alunos que tirarm 0 em redação, é de: {:.2f}\".format(corr_ng_no))"
   ]
  },
  {
   "cell_type": "markdown",
   "id": "f2989121",
   "metadata": {},
   "source": [
    "Com a exclusão dos alunos que tirarm 0 em redação, o coeficiente de correlação de Peasron sobre 0.02; mantendo essa correlação como <b>moderada</b>."
   ]
  },
  {
   "cell_type": "markdown",
   "id": "48d147a8",
   "metadata": {},
   "source": [
    "## Relação entre Nota Geral e Renda Familiar"
   ]
  },
  {
   "cell_type": "code",
   "execution_count": 23,
   "id": "ba0bacc6",
   "metadata": {},
   "outputs": [
    {
     "data": {
      "text/html": [
       "<div>\n",
       "<style scoped>\n",
       "    .dataframe tbody tr th:only-of-type {\n",
       "        vertical-align: middle;\n",
       "    }\n",
       "\n",
       "    .dataframe tbody tr th {\n",
       "        vertical-align: top;\n",
       "    }\n",
       "\n",
       "    .dataframe thead th {\n",
       "        text-align: right;\n",
       "    }\n",
       "</style>\n",
       "<table border=\"1\" class=\"dataframe\">\n",
       "  <thead>\n",
       "    <tr style=\"text-align: right;\">\n",
       "      <th></th>\n",
       "      <th>idade</th>\n",
       "      <th>nota_redacao</th>\n",
       "      <th>nota_objetivas</th>\n",
       "      <th>nota_geral</th>\n",
       "    </tr>\n",
       "    <tr>\n",
       "      <th>renda_mensal_familiar</th>\n",
       "      <th></th>\n",
       "      <th></th>\n",
       "      <th></th>\n",
       "      <th></th>\n",
       "    </tr>\n",
       "  </thead>\n",
       "  <tbody>\n",
       "    <tr>\n",
       "      <th>&gt;= 19960.00</th>\n",
       "      <td>19.614273</td>\n",
       "      <td>772.979840</td>\n",
       "      <td>625.002135</td>\n",
       "      <td>698.990988</td>\n",
       "    </tr>\n",
       "    <tr>\n",
       "      <th>14970.00 até 19960.00</th>\n",
       "      <td>20.219920</td>\n",
       "      <td>760.901002</td>\n",
       "      <td>616.138390</td>\n",
       "      <td>688.519696</td>\n",
       "    </tr>\n",
       "    <tr>\n",
       "      <th>11976.00 até 14970.00</th>\n",
       "      <td>20.442953</td>\n",
       "      <td>748.778013</td>\n",
       "      <td>607.165131</td>\n",
       "      <td>677.971572</td>\n",
       "    </tr>\n",
       "    <tr>\n",
       "      <th>9980.00 até 11976.00</th>\n",
       "      <td>20.480808</td>\n",
       "      <td>734.562941</td>\n",
       "      <td>598.697250</td>\n",
       "      <td>666.630095</td>\n",
       "    </tr>\n",
       "    <tr>\n",
       "      <th>8982.00 até 9980.00</th>\n",
       "      <td>20.693344</td>\n",
       "      <td>721.370314</td>\n",
       "      <td>589.615228</td>\n",
       "      <td>655.492771</td>\n",
       "    </tr>\n",
       "    <tr>\n",
       "      <th>7984.00 até 8982.00</th>\n",
       "      <td>20.595754</td>\n",
       "      <td>717.446551</td>\n",
       "      <td>586.594173</td>\n",
       "      <td>652.020362</td>\n",
       "    </tr>\n",
       "    <tr>\n",
       "      <th>6986.00 até 7984.00</th>\n",
       "      <td>20.643930</td>\n",
       "      <td>703.604477</td>\n",
       "      <td>578.627784</td>\n",
       "      <td>641.116130</td>\n",
       "    </tr>\n",
       "    <tr>\n",
       "      <th>5988.00 até 6986.00</th>\n",
       "      <td>20.749718</td>\n",
       "      <td>697.149770</td>\n",
       "      <td>574.029871</td>\n",
       "      <td>635.589821</td>\n",
       "    </tr>\n",
       "    <tr>\n",
       "      <th>4990.00 até 5988.00</th>\n",
       "      <td>20.880866</td>\n",
       "      <td>674.763175</td>\n",
       "      <td>562.395150</td>\n",
       "      <td>618.579163</td>\n",
       "    </tr>\n",
       "    <tr>\n",
       "      <th>3992.00 até 4990.00</th>\n",
       "      <td>21.355356</td>\n",
       "      <td>659.716494</td>\n",
       "      <td>555.019659</td>\n",
       "      <td>607.368076</td>\n",
       "    </tr>\n",
       "    <tr>\n",
       "      <th>2994.00 até 3992.00</th>\n",
       "      <td>21.386658</td>\n",
       "      <td>631.842157</td>\n",
       "      <td>538.226847</td>\n",
       "      <td>585.034502</td>\n",
       "    </tr>\n",
       "    <tr>\n",
       "      <th>2495.00 até 2994.00</th>\n",
       "      <td>21.940485</td>\n",
       "      <td>616.185994</td>\n",
       "      <td>531.613971</td>\n",
       "      <td>573.899982</td>\n",
       "    </tr>\n",
       "    <tr>\n",
       "      <th>1996.00 até 2495.00</th>\n",
       "      <td>22.095200</td>\n",
       "      <td>592.260855</td>\n",
       "      <td>515.941233</td>\n",
       "      <td>554.101044</td>\n",
       "    </tr>\n",
       "    <tr>\n",
       "      <th>1497.00 até 1996.00</th>\n",
       "      <td>22.707393</td>\n",
       "      <td>577.620265</td>\n",
       "      <td>509.516511</td>\n",
       "      <td>543.568388</td>\n",
       "    </tr>\n",
       "    <tr>\n",
       "      <th>998.00 até 1497.00</th>\n",
       "      <td>22.394559</td>\n",
       "      <td>554.749488</td>\n",
       "      <td>491.693840</td>\n",
       "      <td>523.221664</td>\n",
       "    </tr>\n",
       "    <tr>\n",
       "      <th>&lt;= 998.00</th>\n",
       "      <td>21.903920</td>\n",
       "      <td>526.768440</td>\n",
       "      <td>472.955099</td>\n",
       "      <td>499.861769</td>\n",
       "    </tr>\n",
       "    <tr>\n",
       "      <th>Nenhuma Renda</th>\n",
       "      <td>22.477259</td>\n",
       "      <td>505.764126</td>\n",
       "      <td>466.209070</td>\n",
       "      <td>485.986598</td>\n",
       "    </tr>\n",
       "  </tbody>\n",
       "</table>\n",
       "</div>"
      ],
      "text/plain": [
       "                           idade  nota_redacao  nota_objetivas  nota_geral\n",
       "renda_mensal_familiar                                                     \n",
       ">= 19960.00            19.614273    772.979840      625.002135  698.990988\n",
       "14970.00 até 19960.00  20.219920    760.901002      616.138390  688.519696\n",
       "11976.00 até 14970.00  20.442953    748.778013      607.165131  677.971572\n",
       "9980.00 até 11976.00   20.480808    734.562941      598.697250  666.630095\n",
       "8982.00 até 9980.00    20.693344    721.370314      589.615228  655.492771\n",
       "7984.00 até 8982.00    20.595754    717.446551      586.594173  652.020362\n",
       "6986.00 até 7984.00    20.643930    703.604477      578.627784  641.116130\n",
       "5988.00 até 6986.00    20.749718    697.149770      574.029871  635.589821\n",
       "4990.00 até 5988.00    20.880866    674.763175      562.395150  618.579163\n",
       "3992.00 até 4990.00    21.355356    659.716494      555.019659  607.368076\n",
       "2994.00 até 3992.00    21.386658    631.842157      538.226847  585.034502\n",
       "2495.00 até 2994.00    21.940485    616.185994      531.613971  573.899982\n",
       "1996.00 até 2495.00    22.095200    592.260855      515.941233  554.101044\n",
       "1497.00 até 1996.00    22.707393    577.620265      509.516511  543.568388\n",
       "998.00 até 1497.00     22.394559    554.749488      491.693840  523.221664\n",
       "<= 998.00              21.903920    526.768440      472.955099  499.861769\n",
       "Nenhuma Renda          22.477259    505.764126      466.209070  485.986598"
      ]
     },
     "execution_count": 23,
     "metadata": {},
     "output_type": "execute_result"
    }
   ],
   "source": [
    "# Observando a relação entre renda mensal familiar e nota geral\n",
    "enem_renda = enem.drop(columns=[\"internet_na_residencia\", \"municipio_id\"])\n",
    "\n",
    "# Tabela contendo um agrupamento da renda mensal familiar e ordenando os grupos de acordo com a média da nota geral\n",
    "enem_renda.groupby([\"renda_mensal_familiar\"]).mean().sort_values(by=\"nota_geral\", ascending=False)"
   ]
  },
  {
   "cell_type": "markdown",
   "id": "083fba95",
   "metadata": {},
   "source": [
    "Pode-se observar que, apesar de ordenada pela média da nota geral, a tabela acaba por estar ordenada também de acordo com a renda familiar.<br>\n",
    "As maiores médias das notas gerais correspondem ao grupo de inscritos que possuem maior renda mensal familiar; e as menores médias das notas gerais correspondem ao grupo de inscritos sem renda familiar mensal. Há uma diferença de 213 pontos na média\n",
    "entre estes grupos."
   ]
  },
  {
   "cell_type": "markdown",
   "id": "d9f90988",
   "metadata": {},
   "source": [
    "### Olhando para os extremos"
   ]
  },
  {
   "cell_type": "code",
   "execution_count": 24,
   "id": "7a31c659",
   "metadata": {},
   "outputs": [
    {
     "data": {
      "text/html": [
       "<div>\n",
       "<style scoped>\n",
       "    .dataframe tbody tr th:only-of-type {\n",
       "        vertical-align: middle;\n",
       "    }\n",
       "\n",
       "    .dataframe tbody tr th {\n",
       "        vertical-align: top;\n",
       "    }\n",
       "\n",
       "    .dataframe thead th {\n",
       "        text-align: right;\n",
       "    }\n",
       "</style>\n",
       "<table border=\"1\" class=\"dataframe\">\n",
       "  <thead>\n",
       "    <tr style=\"text-align: right;\">\n",
       "      <th></th>\n",
       "      <th>renda_mensal_familiar</th>\n",
       "      <th>nota_geral</th>\n",
       "    </tr>\n",
       "  </thead>\n",
       "  <tbody>\n",
       "    <tr>\n",
       "      <th>19</th>\n",
       "      <td>Nenhuma Renda</td>\n",
       "      <td>523.7250</td>\n",
       "    </tr>\n",
       "    <tr>\n",
       "      <th>30</th>\n",
       "      <td>Nenhuma Renda</td>\n",
       "      <td>595.5375</td>\n",
       "    </tr>\n",
       "    <tr>\n",
       "      <th>46</th>\n",
       "      <td>Nenhuma Renda</td>\n",
       "      <td>585.0250</td>\n",
       "    </tr>\n",
       "    <tr>\n",
       "      <th>53</th>\n",
       "      <td>Nenhuma Renda</td>\n",
       "      <td>422.5000</td>\n",
       "    </tr>\n",
       "    <tr>\n",
       "      <th>54</th>\n",
       "      <td>Nenhuma Renda</td>\n",
       "      <td>493.7000</td>\n",
       "    </tr>\n",
       "    <tr>\n",
       "      <th>...</th>\n",
       "      <td>...</td>\n",
       "      <td>...</td>\n",
       "    </tr>\n",
       "    <tr>\n",
       "      <th>5095112</th>\n",
       "      <td>Nenhuma Renda</td>\n",
       "      <td>329.7625</td>\n",
       "    </tr>\n",
       "    <tr>\n",
       "      <th>5095121</th>\n",
       "      <td>Nenhuma Renda</td>\n",
       "      <td>533.9875</td>\n",
       "    </tr>\n",
       "    <tr>\n",
       "      <th>5095140</th>\n",
       "      <td>Nenhuma Renda</td>\n",
       "      <td>408.7125</td>\n",
       "    </tr>\n",
       "    <tr>\n",
       "      <th>5095156</th>\n",
       "      <td>&gt;= 19960.00</td>\n",
       "      <td>762.0750</td>\n",
       "    </tr>\n",
       "    <tr>\n",
       "      <th>5095237</th>\n",
       "      <td>&gt;= 19960.00</td>\n",
       "      <td>716.3375</td>\n",
       "    </tr>\n",
       "  </tbody>\n",
       "</table>\n",
       "<p>168274 rows × 2 columns</p>\n",
       "</div>"
      ],
      "text/plain": [
       "        renda_mensal_familiar  nota_geral\n",
       "19              Nenhuma Renda    523.7250\n",
       "30              Nenhuma Renda    595.5375\n",
       "46              Nenhuma Renda    585.0250\n",
       "53              Nenhuma Renda    422.5000\n",
       "54              Nenhuma Renda    493.7000\n",
       "...                       ...         ...\n",
       "5095112         Nenhuma Renda    329.7625\n",
       "5095121         Nenhuma Renda    533.9875\n",
       "5095140         Nenhuma Renda    408.7125\n",
       "5095156           >= 19960.00    762.0750\n",
       "5095237           >= 19960.00    716.3375\n",
       "\n",
       "[168274 rows x 2 columns]"
      ]
     },
     "execution_count": 24,
     "metadata": {},
     "output_type": "execute_result"
    }
   ],
   "source": [
    "# Criando um novo DataFrame para analisar os extremos da renda familiar\n",
    "enem_renda_extremos = enem_renda.loc[(enem[\"renda_mensal_familiar\"] == \">= 19960.00\") | \n",
    "                               (enem[\"renda_mensal_familiar\"] == \"Nenhuma Renda\"), [\"renda_mensal_familiar\",\"nota_geral\"]]\n",
    "\n",
    "enem_renda_extremos\n"
   ]
  },
  {
   "cell_type": "code",
   "execution_count": 25,
   "id": "56dc2bcb",
   "metadata": {},
   "outputs": [
    {
     "data": {
      "image/png": "[encoded data removed]",
      "text/plain": [
       "<Figure size 243x432 with 1 Axes>"
      ]
     },
     "metadata": {
      "needs_background": "light"
     },
     "output_type": "display_data"
    }
   ],
   "source": [
    "# Criando gráfico\n",
    "cat_renda = sns.catplot(x=\"renda_mensal_familiar\",y=\"nota_geral\",data=enem_renda_extremos, kind=\"box\", \n",
    "                        height=6, aspect=9/16)\n",
    "\n",
    "# Alterando títulos\n",
    "cat_renda.set(title=\"Diferença entre notas de extremos de renda mensal familiar\",\n",
    "              xlabel=\"Renda Mensal Familiar\", ylabel=\"Nota Geral\")\n",
    "\n",
    "# Mostrando gráfico\n",
    "plt.show()"
   ]
  },
  {
   "cell_type": "markdown",
   "id": "8b20cec4",
   "metadata": {},
   "source": [
    "Quando olha-es para as amplitudes dos valores dos quartis, deixando de lado os outliers, o gráfico demonstra as diferenças em relação aos extremos da renda mensal familiar. Onde a nota mediana do grupo com renda superior/ou igual a R$19.960,00, praticamente, se equipara as notas do 4º quartil do grupo com nenhuma renda."
   ]
  },
  {
   "cell_type": "code",
   "execution_count": 26,
   "id": "099718c4",
   "metadata": {},
   "outputs": [
    {
     "data": {
      "image/png": "[encoded data removed]",
      "text/plain": [
       "<Figure size 1017.5x504 with 1 Axes>"
      ]
     },
     "metadata": {
      "needs_background": "light"
     },
     "output_type": "display_data"
    }
   ],
   "source": [
    "# Criando o gráfico\n",
    "dist_renda = sns.displot(data=enem_renda_extremos, x=\"nota_geral\", hue=\"renda_mensal_familiar\",\n",
    "                         height=7, aspect=16/9)\n",
    "\n",
    "#Média das notas\n",
    "plt.axvline(enem.nota_geral.mean(), c=\"purple\", alpha=0.8, label=\"Média das Notas\")\n",
    "\n",
    "# Alterando títulos\n",
    "dist_renda.set(title=\"Distribuição das Notas Gerais dos extremos de renda familiar\",\n",
    "               xlabel=\"Nota Geral\", ylabel=\"Candidatos\")\n",
    "\n",
    "# Mostrando gráfico\n",
    "plt.legend()\n",
    "plt.show()"
   ]
  },
  {
   "cell_type": "markdown",
   "id": "4e1c8cf2",
   "metadata": {},
   "source": [
    "O gráfico de distribuição, apresentado, reforça as observações anteriores através de uma outra visão dos dados."
   ]
  },
  {
   "cell_type": "markdown",
   "id": "ccfcb55e",
   "metadata": {},
   "source": [
    "## Relação entre Notas e tipo de Ensino Médio"
   ]
  },
  {
   "cell_type": "code",
   "execution_count": 27,
   "id": "618e4cd4",
   "metadata": {},
   "outputs": [
    {
     "data": {
      "text/html": [
       "<div>\n",
       "<style scoped>\n",
       "    .dataframe tbody tr th:only-of-type {\n",
       "        vertical-align: middle;\n",
       "    }\n",
       "\n",
       "    .dataframe tbody tr th {\n",
       "        vertical-align: top;\n",
       "    }\n",
       "\n",
       "    .dataframe thead th {\n",
       "        text-align: right;\n",
       "    }\n",
       "</style>\n",
       "<table border=\"1\" class=\"dataframe\">\n",
       "  <thead>\n",
       "    <tr style=\"text-align: right;\">\n",
       "      <th></th>\n",
       "      <th>idade</th>\n",
       "      <th>nota_redacao</th>\n",
       "      <th>nota_objetivas</th>\n",
       "      <th>nota_geral</th>\n",
       "    </tr>\n",
       "    <tr>\n",
       "      <th>tipo_ens_med</th>\n",
       "      <th></th>\n",
       "      <th></th>\n",
       "      <th></th>\n",
       "      <th></th>\n",
       "    </tr>\n",
       "  </thead>\n",
       "  <tbody>\n",
       "    <tr>\n",
       "      <th>Particular</th>\n",
       "      <td>17.408448</td>\n",
       "      <td>724.857840</td>\n",
       "      <td>573.860477</td>\n",
       "      <td>649.359158</td>\n",
       "    </tr>\n",
       "    <tr>\n",
       "      <th>Sem Resposta</th>\n",
       "      <td>24.412303</td>\n",
       "      <td>578.122417</td>\n",
       "      <td>508.127563</td>\n",
       "      <td>543.124990</td>\n",
       "    </tr>\n",
       "    <tr>\n",
       "      <th>Publica</th>\n",
       "      <td>18.135562</td>\n",
       "      <td>554.561718</td>\n",
       "      <td>491.872349</td>\n",
       "      <td>523.217033</td>\n",
       "    </tr>\n",
       "  </tbody>\n",
       "</table>\n",
       "</div>"
      ],
      "text/plain": [
       "                  idade  nota_redacao  nota_objetivas  nota_geral\n",
       "tipo_ens_med                                                     \n",
       "Particular    17.408448    724.857840      573.860477  649.359158\n",
       "Sem Resposta  24.412303    578.122417      508.127563  543.124990\n",
       "Publica       18.135562    554.561718      491.872349  523.217033"
      ]
     },
     "execution_count": 27,
     "metadata": {},
     "output_type": "execute_result"
    }
   ],
   "source": [
    "# Observando a relação entre renda mensal familiar e nota geral\n",
    "enem_ens = enem.drop(columns=[\"internet_na_residencia\", \"municipio_id\"])\n",
    "\n",
    "enem_ens.groupby([\"tipo_ens_med\"]).mean().sort_values(by=\"nota_geral\", ascending=False)"
   ]
  },
  {
   "cell_type": "markdown",
   "id": "bbb10223",
   "metadata": {},
   "source": [
    "Observando a tabela percebe-se uma diferença entre as médias das notas gerais principalmente entre o tipo de ensino particular e público. Demonstrando que em média, os alunos que tiveram o ensino médio em escolas particulares, obtiveram maiores notas quando comparados aos mesmos que fizeram ensino médio em escolas públicas.\n",
    "\n",
    "Irei deixar de trabalhar com os dados do tipo de ensino tido como \"Sem Resposta\", pois não temos maiores detalhes sobre essa indicação."
   ]
  },
  {
   "cell_type": "code",
   "execution_count": 28,
   "id": "15395916",
   "metadata": {},
   "outputs": [
    {
     "data": {
      "image/png": "[encoded data removed]",
      "text/plain": [
       "<Figure size 277.714x432 with 1 Axes>"
      ]
     },
     "metadata": {
      "needs_background": "light"
     },
     "output_type": "display_data"
    }
   ],
   "source": [
    "# Criando gráfico\n",
    "cat_ens = sns.catplot(x=\"tipo_ens_med\", y=\"nota_geral\", kind=\"box\", data=enem_ens.drop(enem[enem.tipo_ens_med == \"Sem Resposta\"].index),\n",
    "                     height=6, aspect=9/14)\n",
    "\n",
    "# Alterando títulos\n",
    "cat_ens.set(title=\"BoxPlot Nota Geral em relação ao Tipo de Ensino Médio\",\n",
    "              xlabel=\"Tipo de Ensino Médio\", ylabel=\"Nota Geral\")\n",
    "\n",
    "# Mostrando gráfico\n",
    "plt.show()"
   ]
  },
  {
   "cell_type": "markdown",
   "id": "7709490f",
   "metadata": {},
   "source": [
    "Observa-se pelo gráfico que o 1º, 2º e 3º Quartil das notas, de quem realizou o ensino médio em escola pública, estão praticamente abaixo do 2º quartil das notas de quem realizou o ensino médio em escola particular."
   ]
  },
  {
   "cell_type": "code",
   "execution_count": 29,
   "id": "818a025e",
   "metadata": {},
   "outputs": [
    {
     "data": {
      "image/png": "[encoded data removed]",
      "text/plain": [
       "<Figure size 979.5x504 with 1 Axes>"
      ]
     },
     "metadata": {
      "needs_background": "light"
     },
     "output_type": "display_data"
    }
   ],
   "source": [
    "# Criando o gráfico\n",
    "dist_ens = sns.displot(data=enem_ens.drop(enem[enem.tipo_ens_med == \"Sem Resposta\"].index), x=\"nota_geral\", hue=\"tipo_ens_med\",\n",
    "                         height=7, aspect=16/9)\n",
    "\n",
    "#Média das notas\n",
    "plt.axvline(enem.nota_geral.mean(), c=\"purple\", alpha=0.8, label=\"Média das Notas\")\n",
    "\n",
    "# Alterando títulos\n",
    "dist_ens.set(title=\"Distribuição das Notas Gerais classificados por Tipo de Ensino Médio\",\n",
    "               xlabel=\"Nota Geral\", ylabel=\"Candidatos\")\n",
    "\n",
    "# Mostrando gráfico\n",
    "plt.legend()\n",
    "plt.show()"
   ]
  },
  {
   "cell_type": "markdown",
   "id": "8859a168",
   "metadata": {},
   "source": [
    "O gráfico de distribuição, apresentado, reforça as observações anteriores, e se assemelha a distribuição dos extremos da renda mensal familiar."
   ]
  },
  {
   "cell_type": "markdown",
   "id": "4c8c865d",
   "metadata": {},
   "source": [
    "## Relação Notas e Internet na residencia"
   ]
  },
  {
   "cell_type": "code",
   "execution_count": 30,
   "id": "76770440",
   "metadata": {},
   "outputs": [
    {
     "data": {
      "text/html": [
       "<div>\n",
       "<style scoped>\n",
       "    .dataframe tbody tr th:only-of-type {\n",
       "        vertical-align: middle;\n",
       "    }\n",
       "\n",
       "    .dataframe tbody tr th {\n",
       "        vertical-align: top;\n",
       "    }\n",
       "\n",
       "    .dataframe thead th {\n",
       "        text-align: right;\n",
       "    }\n",
       "</style>\n",
       "<table border=\"1\" class=\"dataframe\">\n",
       "  <thead>\n",
       "    <tr style=\"text-align: right;\">\n",
       "      <th></th>\n",
       "      <th>idade</th>\n",
       "      <th>nota_redacao</th>\n",
       "      <th>nota_objetivas</th>\n",
       "      <th>nota_geral</th>\n",
       "    </tr>\n",
       "    <tr>\n",
       "      <th>internet_na_residencia</th>\n",
       "      <th></th>\n",
       "      <th></th>\n",
       "      <th></th>\n",
       "      <th></th>\n",
       "    </tr>\n",
       "  </thead>\n",
       "  <tbody>\n",
       "    <tr>\n",
       "      <th>Nao</th>\n",
       "      <td>21.765638</td>\n",
       "      <td>597.907742</td>\n",
       "      <td>517.296826</td>\n",
       "      <td>557.602284</td>\n",
       "    </tr>\n",
       "    <tr>\n",
       "      <th>Sim</th>\n",
       "      <td>22.630790</td>\n",
       "      <td>518.339287</td>\n",
       "      <td>472.122913</td>\n",
       "      <td>495.231100</td>\n",
       "    </tr>\n",
       "  </tbody>\n",
       "</table>\n",
       "</div>"
      ],
      "text/plain": [
       "                            idade  nota_redacao  nota_objetivas  nota_geral\n",
       "internet_na_residencia                                                     \n",
       "Nao                     21.765638    597.907742      517.296826  557.602284\n",
       "Sim                     22.630790    518.339287      472.122913  495.231100"
      ]
     },
     "execution_count": 30,
     "metadata": {},
     "output_type": "execute_result"
    }
   ],
   "source": [
    "enem_internet = enem.drop(columns=[\"municipio_id\", \"tipo_ens_med\"])\n",
    "\n",
    "enem_internet.groupby([\"internet_na_residencia\"]).mean().sort_values(by=\"nota_geral\", ascending=False)"
   ]
  },
  {
   "cell_type": "markdown",
   "id": "57e857b8",
   "metadata": {},
   "source": [
    "Pode-se observar pela tabela, que em média, os candidatos que possuem acesso a internet em suas residências obtiveram uma nota menor quando comparado aos que não possuem."
   ]
  },
  {
   "cell_type": "code",
   "execution_count": 31,
   "id": "2d055a92",
   "metadata": {},
   "outputs": [
    {
     "data": {
      "image/png": "[encoded data removed]",
      "text/plain": [
       "<Figure size 277.714x432 with 1 Axes>"
      ]
     },
     "metadata": {
      "needs_background": "light"
     },
     "output_type": "display_data"
    }
   ],
   "source": [
    "# Criando gráfico\n",
    "cat_int = sns.catplot(x=\"internet_na_residencia\", y=\"nota_geral\", kind=\"box\", data=enem_internet.drop(enem[enem.tipo_ens_med == \"Sem Resposta\"].index),\n",
    "                     height=6, aspect=9/14)\n",
    "\n",
    "# Alterando títulos\n",
    "cat_int.set(title=\"BoxPlot Nota Geral em relação á Presença de Internet na Residência\",\n",
    "              xlabel=\"Possui Internet na Residência\", ylabel=\"Nota Geral\")\n",
    "\n",
    "# Mostrando gráfico\n",
    "plt.show()"
   ]
  },
  {
   "cell_type": "markdown",
   "id": "a27422ff",
   "metadata": {},
   "source": [
    "Observando a amplitude e as medianas dos \"boxplot\" de cada categoria, pode-se observar novamente como as notas gerais, dos candidatos sem internet em sua residência, estão um pouco acima dos candidatos com internet em sua residência."
   ]
  },
  {
   "cell_type": "markdown",
   "id": "7da40af1",
   "metadata": {},
   "source": [
    "## Relação Idade e Nota Geral"
   ]
  },
  {
   "cell_type": "code",
   "execution_count": 32,
   "id": "cd0fb397",
   "metadata": {},
   "outputs": [
    {
     "data": {
      "image/png": "[encoded data removed]",
      "text/plain": [
       "<Figure size 504x504 with 1 Axes>"
      ]
     },
     "metadata": {
      "needs_background": "light"
     },
     "output_type": "display_data"
    }
   ],
   "source": [
    "# Olhando a distribuição das idades\n",
    "dist_idade = sns.displot(data=enem, x=\"idade\", height=7, bins=80)\n",
    "\n",
    "# Alterando titulos\n",
    "dist_idade.set(title=\"Distribuição das idades\", xlabel=\"Idade (anos)\", ylabel=\"Candidatos\")\n",
    "\n",
    "# Mostrando gráfico\n",
    "plt.show()"
   ]
  },
  {
   "cell_type": "markdown",
   "id": "79746463",
   "metadata": {},
   "source": [
    "O gráfico demonstra uma maior concentração da idade em torno dos 18-20 anos, seguido de uma dimiuição das concentrações de idade conforme avançamos na mesma."
   ]
  },
  {
   "cell_type": "code",
   "execution_count": 33,
   "id": "b97453bb",
   "metadata": {},
   "outputs": [],
   "source": [
    "# Criando um DataFrame novo com um agrupamento das idades\n",
    "enem_idade = enem.drop(columns=[\"municipio_id\", \"tipo_ens_med\", \"internet_na_residencia\"])\n",
    "\n",
    "# Agrupando valores das idades\n",
    "enem_idade.loc[enem_idade[\"idade\"]  < 18 , \"idade_agrup\"] = \"<18\"\n",
    "enem_idade.loc[enem_idade[\"idade\"].between(18,20), \"idade_agrup\"] = \"18-20\"\n",
    "enem_idade.loc[enem_idade[\"idade\"].between(20,25) , \"idade_agrup\"] = \"20-25\"\n",
    "enem_idade.loc[enem_idade[\"idade\"].between(25,30), \"idade_agrup\"] = \"25-30\"\n",
    "enem_idade.loc[enem_idade[\"idade\"].between(30,35) , \"idade_agrup\"] = \"30-35\"\n",
    "enem_idade.loc[enem_idade[\"idade\"].between(35,40) , \"idade_agrup\"] = \"35-40\"\n",
    "enem_idade.loc[enem_idade[\"idade\"].between(40,60) , \"idade_agrup\"] = \"40-60\"\n",
    "enem_idade.loc[enem_idade[\"idade\"] > 60 , \"idade_agrup\"] = \"60+\"\n",
    "\n",
    "#Retirando a coluna de idade\n",
    "enem_idade = enem_idade.drop(columns=\"idade\")"
   ]
  },
  {
   "cell_type": "code",
   "execution_count": 34,
   "id": "15ecfc40",
   "metadata": {},
   "outputs": [
    {
     "data": {
      "text/html": [
       "<div>\n",
       "<style scoped>\n",
       "    .dataframe tbody tr th:only-of-type {\n",
       "        vertical-align: middle;\n",
       "    }\n",
       "\n",
       "    .dataframe tbody tr th {\n",
       "        vertical-align: top;\n",
       "    }\n",
       "\n",
       "    .dataframe thead th {\n",
       "        text-align: right;\n",
       "    }\n",
       "</style>\n",
       "<table border=\"1\" class=\"dataframe\">\n",
       "  <thead>\n",
       "    <tr style=\"text-align: right;\">\n",
       "      <th></th>\n",
       "      <th>nota_redacao</th>\n",
       "      <th>nota_objetivas</th>\n",
       "      <th>nota_geral</th>\n",
       "    </tr>\n",
       "    <tr>\n",
       "      <th>idade_agrup</th>\n",
       "      <th></th>\n",
       "      <th></th>\n",
       "      <th></th>\n",
       "    </tr>\n",
       "  </thead>\n",
       "  <tbody>\n",
       "    <tr>\n",
       "      <th>&lt;18</th>\n",
       "      <td>615.416869</td>\n",
       "      <td>518.894834</td>\n",
       "      <td>567.155852</td>\n",
       "    </tr>\n",
       "    <tr>\n",
       "      <th>18-20</th>\n",
       "      <td>600.552453</td>\n",
       "      <td>509.367137</td>\n",
       "      <td>554.959795</td>\n",
       "    </tr>\n",
       "    <tr>\n",
       "      <th>20-25</th>\n",
       "      <td>571.626266</td>\n",
       "      <td>502.859148</td>\n",
       "      <td>537.242707</td>\n",
       "    </tr>\n",
       "    <tr>\n",
       "      <th>25-30</th>\n",
       "      <td>545.685412</td>\n",
       "      <td>503.456387</td>\n",
       "      <td>524.570900</td>\n",
       "    </tr>\n",
       "    <tr>\n",
       "      <th>30-35</th>\n",
       "      <td>530.883616</td>\n",
       "      <td>502.101453</td>\n",
       "      <td>516.492534</td>\n",
       "    </tr>\n",
       "    <tr>\n",
       "      <th>35-40</th>\n",
       "      <td>508.190565</td>\n",
       "      <td>494.238718</td>\n",
       "      <td>501.214641</td>\n",
       "    </tr>\n",
       "    <tr>\n",
       "      <th>40-60</th>\n",
       "      <td>479.442128</td>\n",
       "      <td>486.638959</td>\n",
       "      <td>483.040543</td>\n",
       "    </tr>\n",
       "    <tr>\n",
       "      <th>60+</th>\n",
       "      <td>418.098311</td>\n",
       "      <td>478.186117</td>\n",
       "      <td>448.142214</td>\n",
       "    </tr>\n",
       "  </tbody>\n",
       "</table>\n",
       "</div>"
      ],
      "text/plain": [
       "             nota_redacao  nota_objetivas  nota_geral\n",
       "idade_agrup                                          \n",
       "<18            615.416869      518.894834  567.155852\n",
       "18-20          600.552453      509.367137  554.959795\n",
       "20-25          571.626266      502.859148  537.242707\n",
       "25-30          545.685412      503.456387  524.570900\n",
       "30-35          530.883616      502.101453  516.492534\n",
       "35-40          508.190565      494.238718  501.214641\n",
       "40-60          479.442128      486.638959  483.040543\n",
       "60+            418.098311      478.186117  448.142214"
      ]
     },
     "execution_count": 34,
     "metadata": {},
     "output_type": "execute_result"
    }
   ],
   "source": [
    "# Tabela de analise\n",
    "enem_idade.groupby([\"idade_agrup\"]).mean().sort_values(by=\"nota_geral\", ascending=False)"
   ]
  },
  {
   "cell_type": "markdown",
   "id": "80c1e2d5",
   "metadata": {},
   "source": [
    "<b>A tabela acima foi realizada agrupando os candidatos por faixas etárias, e tomando sua notas através das médias. \n",
    "\n",
    "Pode observar que, pelas médias, há uma tendencia de queda das notas conforme avançamos na idade."
   ]
  },
  {
   "cell_type": "code",
   "execution_count": 35,
   "id": "8c9365a8",
   "metadata": {},
   "outputs": [
    {
     "data": {
      "image/png": "[encoded data removed]",
      "text/plain": [
       "<Figure size 768x432 with 1 Axes>"
      ]
     },
     "metadata": {
      "needs_background": "light"
     },
     "output_type": "display_data"
    }
   ],
   "source": [
    "# Criando gráfico\n",
    "ordem_faixas = [\"<18\", \"18-20\", \"20-25\", \"25-30\", \"30-35\", \"35-40\", \"40-60\"]\n",
    "\n",
    "cat_idade = sns.catplot(x=\"idade_agrup\", y=\"nota_geral\", kind=\"box\", data=enem_idade, order=ordem_faixas, height=6, aspect=16/9)\n",
    "\n",
    "# Alterando títulos\n",
    "cat_idade.set(title=\"BoxPlot Nota Geral em relação á Faixa Etária\",\n",
    "              xlabel=\"Faixas Etárias\", ylabel=\"Nota Geral\")\n",
    "\n",
    "# Mostrando gráfico\n",
    "plt.show()"
   ]
  },
  {
   "cell_type": "markdown",
   "id": "d565c5ad",
   "metadata": {},
   "source": [
    "Este gráfico de BoxPlot demonstra com mais detalhes, as variancias, a observação feita anteriormente na tabela."
   ]
  },
  {
   "cell_type": "markdown",
   "id": "20760c5b",
   "metadata": {},
   "source": [
    "## Observando a Nota Geral de acordo com os Estados"
   ]
  },
  {
   "cell_type": "code",
   "execution_count": 36,
   "id": "5332fc76",
   "metadata": {},
   "outputs": [
    {
     "data": {
      "text/html": [
       "<div>\n",
       "<style scoped>\n",
       "    .dataframe tbody tr th:only-of-type {\n",
       "        vertical-align: middle;\n",
       "    }\n",
       "\n",
       "    .dataframe tbody tr th {\n",
       "        vertical-align: top;\n",
       "    }\n",
       "\n",
       "    .dataframe thead th {\n",
       "        text-align: right;\n",
       "    }\n",
       "</style>\n",
       "<table border=\"1\" class=\"dataframe\">\n",
       "  <thead>\n",
       "    <tr style=\"text-align: right;\">\n",
       "      <th></th>\n",
       "      <th>idade</th>\n",
       "      <th>nota_redacao</th>\n",
       "      <th>municipio_id</th>\n",
       "      <th>nota_objetivas</th>\n",
       "      <th>nota_geral</th>\n",
       "      <th>contagem</th>\n",
       "    </tr>\n",
       "    <tr>\n",
       "      <th>estado</th>\n",
       "      <th></th>\n",
       "      <th></th>\n",
       "      <th></th>\n",
       "      <th></th>\n",
       "      <th></th>\n",
       "      <th></th>\n",
       "    </tr>\n",
       "  </thead>\n",
       "  <tbody>\n",
       "    <tr>\n",
       "      <th>MG</th>\n",
       "      <td>21.965620</td>\n",
       "      <td>606.280731</td>\n",
       "      <td>3.134356e+06</td>\n",
       "      <td>523.269303</td>\n",
       "      <td>564.775017</td>\n",
       "      <td>332111</td>\n",
       "    </tr>\n",
       "    <tr>\n",
       "      <th>RJ</th>\n",
       "      <td>22.440795</td>\n",
       "      <td>605.683979</td>\n",
       "      <td>3.303724e+06</td>\n",
       "      <td>522.102170</td>\n",
       "      <td>563.893075</td>\n",
       "      <td>212777</td>\n",
       "    </tr>\n",
       "    <tr>\n",
       "      <th>SP</th>\n",
       "      <td>20.593084</td>\n",
       "      <td>593.017316</td>\n",
       "      <td>3.535665e+06</td>\n",
       "      <td>527.924681</td>\n",
       "      <td>560.470998</td>\n",
       "      <td>499951</td>\n",
       "    </tr>\n",
       "    <tr>\n",
       "      <th>SC</th>\n",
       "      <td>20.588373</td>\n",
       "      <td>592.101476</td>\n",
       "      <td>4.208776e+06</td>\n",
       "      <td>525.996928</td>\n",
       "      <td>559.049202</td>\n",
       "      <td>64488</td>\n",
       "    </tr>\n",
       "    <tr>\n",
       "      <th>DF</th>\n",
       "      <td>22.468313</td>\n",
       "      <td>593.367989</td>\n",
       "      <td>5.300108e+06</td>\n",
       "      <td>521.344512</td>\n",
       "      <td>557.356250</td>\n",
       "      <td>60404</td>\n",
       "    </tr>\n",
       "    <tr>\n",
       "      <th>ES</th>\n",
       "      <td>22.129518</td>\n",
       "      <td>594.791289</td>\n",
       "      <td>3.203554e+06</td>\n",
       "      <td>517.762714</td>\n",
       "      <td>556.277001</td>\n",
       "      <td>62910</td>\n",
       "    </tr>\n",
       "    <tr>\n",
       "      <th>RS</th>\n",
       "      <td>22.398744</td>\n",
       "      <td>589.511237</td>\n",
       "      <td>4.312659e+06</td>\n",
       "      <td>521.547513</td>\n",
       "      <td>555.529375</td>\n",
       "      <td>133705</td>\n",
       "    </tr>\n",
       "    <tr>\n",
       "      <th>PR</th>\n",
       "      <td>20.913791</td>\n",
       "      <td>577.001572</td>\n",
       "      <td>4.111943e+06</td>\n",
       "      <td>523.112252</td>\n",
       "      <td>550.056912</td>\n",
       "      <td>127887</td>\n",
       "    </tr>\n",
       "    <tr>\n",
       "      <th>GO</th>\n",
       "      <td>21.358817</td>\n",
       "      <td>588.477363</td>\n",
       "      <td>5.209747e+06</td>\n",
       "      <td>508.957102</td>\n",
       "      <td>548.717232</td>\n",
       "      <td>96832</td>\n",
       "    </tr>\n",
       "    <tr>\n",
       "      <th>SE</th>\n",
       "      <td>22.626362</td>\n",
       "      <td>597.678427</td>\n",
       "      <td>2.802796e+06</td>\n",
       "      <td>496.704352</td>\n",
       "      <td>547.191390</td>\n",
       "      <td>48381</td>\n",
       "    </tr>\n",
       "    <tr>\n",
       "      <th>RN</th>\n",
       "      <td>23.351987</td>\n",
       "      <td>587.342620</td>\n",
       "      <td>2.406898e+06</td>\n",
       "      <td>503.899446</td>\n",
       "      <td>545.621033</td>\n",
       "      <td>79108</td>\n",
       "    </tr>\n",
       "    <tr>\n",
       "      <th>PB</th>\n",
       "      <td>22.839617</td>\n",
       "      <td>582.350817</td>\n",
       "      <td>2.507627e+06</td>\n",
       "      <td>496.247485</td>\n",
       "      <td>539.299151</td>\n",
       "      <td>98570</td>\n",
       "    </tr>\n",
       "    <tr>\n",
       "      <th>PE</th>\n",
       "      <td>21.980056</td>\n",
       "      <td>576.449801</td>\n",
       "      <td>2.608838e+06</td>\n",
       "      <td>501.802892</td>\n",
       "      <td>539.126346</td>\n",
       "      <td>171934</td>\n",
       "    </tr>\n",
       "    <tr>\n",
       "      <th>CE</th>\n",
       "      <td>21.111789</td>\n",
       "      <td>571.364903</td>\n",
       "      <td>2.306175e+06</td>\n",
       "      <td>498.971206</td>\n",
       "      <td>535.168055</td>\n",
       "      <td>184482</td>\n",
       "    </tr>\n",
       "    <tr>\n",
       "      <th>MS</th>\n",
       "      <td>22.322415</td>\n",
       "      <td>559.043127</td>\n",
       "      <td>5.003839e+06</td>\n",
       "      <td>501.466035</td>\n",
       "      <td>530.254581</td>\n",
       "      <td>41552</td>\n",
       "    </tr>\n",
       "    <tr>\n",
       "      <th>BA</th>\n",
       "      <td>22.533603</td>\n",
       "      <td>566.642547</td>\n",
       "      <td>2.919284e+06</td>\n",
       "      <td>492.604200</td>\n",
       "      <td>529.623374</td>\n",
       "      <td>249594</td>\n",
       "    </tr>\n",
       "    <tr>\n",
       "      <th>PI</th>\n",
       "      <td>22.259892</td>\n",
       "      <td>572.884883</td>\n",
       "      <td>2.207755e+06</td>\n",
       "      <td>485.903047</td>\n",
       "      <td>529.393965</td>\n",
       "      <td>79102</td>\n",
       "    </tr>\n",
       "    <tr>\n",
       "      <th>AL</th>\n",
       "      <td>22.458324</td>\n",
       "      <td>563.436120</td>\n",
       "      <td>2.704487e+06</td>\n",
       "      <td>486.110654</td>\n",
       "      <td>524.773387</td>\n",
       "      <td>61162</td>\n",
       "    </tr>\n",
       "    <tr>\n",
       "      <th>PA</th>\n",
       "      <td>23.419864</td>\n",
       "      <td>565.716691</td>\n",
       "      <td>1.503118e+06</td>\n",
       "      <td>482.622320</td>\n",
       "      <td>524.169505</td>\n",
       "      <td>182952</td>\n",
       "    </tr>\n",
       "    <tr>\n",
       "      <th>TO</th>\n",
       "      <td>21.244057</td>\n",
       "      <td>559.067916</td>\n",
       "      <td>1.712746e+06</td>\n",
       "      <td>484.233021</td>\n",
       "      <td>521.650469</td>\n",
       "      <td>27637</td>\n",
       "    </tr>\n",
       "    <tr>\n",
       "      <th>MT</th>\n",
       "      <td>22.159289</td>\n",
       "      <td>549.138487</td>\n",
       "      <td>5.105210e+06</td>\n",
       "      <td>494.087380</td>\n",
       "      <td>521.612933</td>\n",
       "      <td>49947</td>\n",
       "    </tr>\n",
       "    <tr>\n",
       "      <th>RR</th>\n",
       "      <td>22.113173</td>\n",
       "      <td>535.909566</td>\n",
       "      <td>1.400122e+06</td>\n",
       "      <td>493.790868</td>\n",
       "      <td>514.850217</td>\n",
       "      <td>7652</td>\n",
       "    </tr>\n",
       "    <tr>\n",
       "      <th>RO</th>\n",
       "      <td>23.507977</td>\n",
       "      <td>537.078189</td>\n",
       "      <td>1.100254e+06</td>\n",
       "      <td>486.917541</td>\n",
       "      <td>511.997865</td>\n",
       "      <td>35478</td>\n",
       "    </tr>\n",
       "    <tr>\n",
       "      <th>MA</th>\n",
       "      <td>21.974755</td>\n",
       "      <td>544.338173</td>\n",
       "      <td>2.107985e+06</td>\n",
       "      <td>477.536140</td>\n",
       "      <td>510.937156</td>\n",
       "      <td>144305</td>\n",
       "    </tr>\n",
       "    <tr>\n",
       "      <th>AC</th>\n",
       "      <td>23.223508</td>\n",
       "      <td>542.038512</td>\n",
       "      <td>1.200376e+06</td>\n",
       "      <td>479.042698</td>\n",
       "      <td>510.540605</td>\n",
       "      <td>24979</td>\n",
       "    </tr>\n",
       "    <tr>\n",
       "      <th>AP</th>\n",
       "      <td>23.889949</td>\n",
       "      <td>541.645758</td>\n",
       "      <td>1.600370e+06</td>\n",
       "      <td>476.531118</td>\n",
       "      <td>509.088438</td>\n",
       "      <td>26942</td>\n",
       "    </tr>\n",
       "    <tr>\n",
       "      <th>AM</th>\n",
       "      <td>22.910690</td>\n",
       "      <td>519.168514</td>\n",
       "      <td>1.302534e+06</td>\n",
       "      <td>478.423946</td>\n",
       "      <td>498.796230</td>\n",
       "      <td>69466</td>\n",
       "    </tr>\n",
       "  </tbody>\n",
       "</table>\n",
       "</div>"
      ],
      "text/plain": [
       "            idade  nota_redacao  municipio_id  nota_objetivas  nota_geral  \\\n",
       "estado                                                                      \n",
       "MG      21.965620    606.280731  3.134356e+06      523.269303  564.775017   \n",
       "RJ      22.440795    605.683979  3.303724e+06      522.102170  563.893075   \n",
       "SP      20.593084    593.017316  3.535665e+06      527.924681  560.470998   \n",
       "SC      20.588373    592.101476  4.208776e+06      525.996928  559.049202   \n",
       "DF      22.468313    593.367989  5.300108e+06      521.344512  557.356250   \n",
       "ES      22.129518    594.791289  3.203554e+06      517.762714  556.277001   \n",
       "RS      22.398744    589.511237  4.312659e+06      521.547513  555.529375   \n",
       "PR      20.913791    577.001572  4.111943e+06      523.112252  550.056912   \n",
       "GO      21.358817    588.477363  5.209747e+06      508.957102  548.717232   \n",
       "SE      22.626362    597.678427  2.802796e+06      496.704352  547.191390   \n",
       "RN      23.351987    587.342620  2.406898e+06      503.899446  545.621033   \n",
       "PB      22.839617    582.350817  2.507627e+06      496.247485  539.299151   \n",
       "PE      21.980056    576.449801  2.608838e+06      501.802892  539.126346   \n",
       "CE      21.111789    571.364903  2.306175e+06      498.971206  535.168055   \n",
       "MS      22.322415    559.043127  5.003839e+06      501.466035  530.254581   \n",
       "BA      22.533603    566.642547  2.919284e+06      492.604200  529.623374   \n",
       "PI      22.259892    572.884883  2.207755e+06      485.903047  529.393965   \n",
       "AL      22.458324    563.436120  2.704487e+06      486.110654  524.773387   \n",
       "PA      23.419864    565.716691  1.503118e+06      482.622320  524.169505   \n",
       "TO      21.244057    559.067916  1.712746e+06      484.233021  521.650469   \n",
       "MT      22.159289    549.138487  5.105210e+06      494.087380  521.612933   \n",
       "RR      22.113173    535.909566  1.400122e+06      493.790868  514.850217   \n",
       "RO      23.507977    537.078189  1.100254e+06      486.917541  511.997865   \n",
       "MA      21.974755    544.338173  2.107985e+06      477.536140  510.937156   \n",
       "AC      23.223508    542.038512  1.200376e+06      479.042698  510.540605   \n",
       "AP      23.889949    541.645758  1.600370e+06      476.531118  509.088438   \n",
       "AM      22.910690    519.168514  1.302534e+06      478.423946  498.796230   \n",
       "\n",
       "        contagem  \n",
       "estado            \n",
       "MG        332111  \n",
       "RJ        212777  \n",
       "SP        499951  \n",
       "SC         64488  \n",
       "DF         60404  \n",
       "ES         62910  \n",
       "RS        133705  \n",
       "PR        127887  \n",
       "GO         96832  \n",
       "SE         48381  \n",
       "RN         79108  \n",
       "PB         98570  \n",
       "PE        171934  \n",
       "CE        184482  \n",
       "MS         41552  \n",
       "BA        249594  \n",
       "PI         79102  \n",
       "AL         61162  \n",
       "PA        182952  \n",
       "TO         27637  \n",
       "MT         49947  \n",
       "RR          7652  \n",
       "RO         35478  \n",
       "MA        144305  \n",
       "AC         24979  \n",
       "AP         26942  \n",
       "AM         69466  "
      ]
     },
     "execution_count": 36,
     "metadata": {},
     "output_type": "execute_result"
    }
   ],
   "source": [
    "# Criando novo dataframe agrupando as notas pelo municipio\n",
    "enem_estado = enem.groupby([\"estado\"]).mean().sort_values(by=\"nota_geral\", ascending=False)\n",
    "\n",
    "# Gerando uma nova coluna com a quantidade de inscritos de cada municipio\n",
    "enem_estado[\"contagem\"] = enem[\"estado\"].value_counts()\n",
    "\n",
    "# Gerando tabela\n",
    "enem_estado"
   ]
  },
  {
   "cell_type": "markdown",
   "id": "92d7e909",
   "metadata": {},
   "source": [
    "<b>A tabela acima foi gerada a partir das médias das notas dos candidatos de cada estado.\n",
    "\n",
    "Ao observar os 5 estados com as maiores médias, nota-se que 3 deles pertencem a região Sudeste (MG, RJ, SP), seguido de SC da região Sul, e DF da região Centro-Oeste. Enquanto que, ao mudar o foco para os 5 estados com as menores médias, nota-se que 4 deles pertencem a região Norte (AM, AP, AC, RO) e um do Nordeste.\n",
    "\n",
    "Há uma diferença de 66 pontos entre a maior média por estado e a menor média por estado."
   ]
  },
  {
   "cell_type": "markdown",
   "id": "cf523600",
   "metadata": {},
   "source": [
    "## Observando a Nota Geral de acordo com os Municipios"
   ]
  },
  {
   "cell_type": "code",
   "execution_count": 37,
   "id": "3308554b",
   "metadata": {},
   "outputs": [
    {
     "data": {
      "text/html": [
       "<div>\n",
       "<style scoped>\n",
       "    .dataframe tbody tr th:only-of-type {\n",
       "        vertical-align: middle;\n",
       "    }\n",
       "\n",
       "    .dataframe tbody tr th {\n",
       "        vertical-align: top;\n",
       "    }\n",
       "\n",
       "    .dataframe thead th {\n",
       "        text-align: right;\n",
       "    }\n",
       "</style>\n",
       "<table border=\"1\" class=\"dataframe\">\n",
       "  <thead>\n",
       "    <tr style=\"text-align: right;\">\n",
       "      <th></th>\n",
       "      <th>idade</th>\n",
       "      <th>nota_redacao</th>\n",
       "      <th>municipio_id</th>\n",
       "      <th>nota_objetivas</th>\n",
       "      <th>nota_geral</th>\n",
       "      <th>quantidade_candidatos</th>\n",
       "    </tr>\n",
       "    <tr>\n",
       "      <th>municipio</th>\n",
       "      <th></th>\n",
       "      <th></th>\n",
       "      <th></th>\n",
       "      <th></th>\n",
       "      <th></th>\n",
       "      <th></th>\n",
       "    </tr>\n",
       "  </thead>\n",
       "  <tbody>\n",
       "    <tr>\n",
       "      <th>WESTFÁLIA</th>\n",
       "      <td>19.250000</td>\n",
       "      <td>695.000000</td>\n",
       "      <td>4323770.0</td>\n",
       "      <td>604.478125</td>\n",
       "      <td>649.739063</td>\n",
       "      <td>8</td>\n",
       "    </tr>\n",
       "    <tr>\n",
       "      <th>SÃO DOMINGOS DO SUL</th>\n",
       "      <td>19.100000</td>\n",
       "      <td>746.000000</td>\n",
       "      <td>4318051.0</td>\n",
       "      <td>533.571250</td>\n",
       "      <td>639.785625</td>\n",
       "      <td>40</td>\n",
       "    </tr>\n",
       "    <tr>\n",
       "      <th>MATO LEITÃO</th>\n",
       "      <td>18.406250</td>\n",
       "      <td>698.750000</td>\n",
       "      <td>4312153.0</td>\n",
       "      <td>553.414062</td>\n",
       "      <td>626.082031</td>\n",
       "      <td>32</td>\n",
       "    </tr>\n",
       "    <tr>\n",
       "      <th>FORMIGA</th>\n",
       "      <td>19.789474</td>\n",
       "      <td>692.432432</td>\n",
       "      <td>3126109.0</td>\n",
       "      <td>552.072155</td>\n",
       "      <td>622.252294</td>\n",
       "      <td>703</td>\n",
       "    </tr>\n",
       "    <tr>\n",
       "      <th>NOVA FRIBURGO</th>\n",
       "      <td>20.611518</td>\n",
       "      <td>688.199122</td>\n",
       "      <td>3303401.0</td>\n",
       "      <td>550.383638</td>\n",
       "      <td>619.291380</td>\n",
       "      <td>2049</td>\n",
       "    </tr>\n",
       "  </tbody>\n",
       "</table>\n",
       "</div>"
      ],
      "text/plain": [
       "                         idade  nota_redacao  municipio_id  nota_objetivas  \\\n",
       "municipio                                                                    \n",
       "WESTFÁLIA            19.250000    695.000000     4323770.0      604.478125   \n",
       "SÃO DOMINGOS DO SUL  19.100000    746.000000     4318051.0      533.571250   \n",
       "MATO LEITÃO          18.406250    698.750000     4312153.0      553.414062   \n",
       "FORMIGA              19.789474    692.432432     3126109.0      552.072155   \n",
       "NOVA FRIBURGO        20.611518    688.199122     3303401.0      550.383638   \n",
       "\n",
       "                     nota_geral  quantidade_candidatos  \n",
       "municipio                                               \n",
       "WESTFÁLIA            649.739063                      8  \n",
       "SÃO DOMINGOS DO SUL  639.785625                     40  \n",
       "MATO LEITÃO          626.082031                     32  \n",
       "FORMIGA              622.252294                    703  \n",
       "NOVA FRIBURGO        619.291380                   2049  "
      ]
     },
     "execution_count": 37,
     "metadata": {},
     "output_type": "execute_result"
    }
   ],
   "source": [
    "# Criando novo dataframe agrupando as notas pelo municipio\n",
    "enem_municipio = enem.groupby([\"municipio\"]).mean().sort_values(by=\"nota_geral\", ascending=False)\n",
    "\n",
    "# Gerando uma nova coluna com a quantidade de inscritos de cada municipio\n",
    "enem_municipio[\"quantidade_candidatos\"] = enem[\"municipio\"].value_counts()\n",
    "\n",
    "# Gerando tabela\n",
    "enem_municipio.head(5)"
   ]
  },
  {
   "cell_type": "markdown",
   "id": "0d9cc72d",
   "metadata": {},
   "source": [
    "<b>A tabela acima descreve os 5 municípios com as maiores médias em relação a nota geral da prova.\n",
    "\n",
    "Ao realizar uma breve pesquisa a respeito dos municípios que constam na tabela, pude perceber que os 3 primeiros (Westfália, São Domingos do Sul, Mato Leitão) possuem algumas caracteristicas em comum. Todos eles pertencem ao estado do Rio Grande do Sul, possuem menos de 10 mil habitantes (estimativas do IBGE), e tiveram um numero baixo de participantes no ENEM (<=40).<br>\n",
    "Dos outros municipios, Formiga pertence ao estado de Minas Gerais; e Nova Friburgo ao estado do Rio de Janeiro. Ambos os estados, observados com as maiores médias de nota geral."
   ]
  },
  {
   "cell_type": "code",
   "execution_count": 38,
   "id": "5fb75d1b",
   "metadata": {},
   "outputs": [
    {
     "data": {
      "text/html": [
       "<div>\n",
       "<style scoped>\n",
       "    .dataframe tbody tr th:only-of-type {\n",
       "        vertical-align: middle;\n",
       "    }\n",
       "\n",
       "    .dataframe tbody tr th {\n",
       "        vertical-align: top;\n",
       "    }\n",
       "\n",
       "    .dataframe thead th {\n",
       "        text-align: right;\n",
       "    }\n",
       "</style>\n",
       "<table border=\"1\" class=\"dataframe\">\n",
       "  <thead>\n",
       "    <tr style=\"text-align: right;\">\n",
       "      <th></th>\n",
       "      <th>idade</th>\n",
       "      <th>sexo</th>\n",
       "      <th>tipo_ens_med</th>\n",
       "      <th>internet_na_residencia</th>\n",
       "      <th>renda_mensal_familiar</th>\n",
       "      <th>nota_redacao</th>\n",
       "      <th>estado</th>\n",
       "      <th>municipio</th>\n",
       "      <th>municipio_id</th>\n",
       "      <th>nota_objetivas</th>\n",
       "      <th>nota_geral</th>\n",
       "    </tr>\n",
       "  </thead>\n",
       "  <tbody>\n",
       "    <tr>\n",
       "      <th>1657598</th>\n",
       "      <td>17</td>\n",
       "      <td>M</td>\n",
       "      <td>Publica</td>\n",
       "      <td>Nao</td>\n",
       "      <td>3992.00 até 4990.00</td>\n",
       "      <td>740.0</td>\n",
       "      <td>RS</td>\n",
       "      <td>WESTFÁLIA</td>\n",
       "      <td>4323770</td>\n",
       "      <td>631.975</td>\n",
       "      <td>685.9875</td>\n",
       "    </tr>\n",
       "    <tr>\n",
       "      <th>1902054</th>\n",
       "      <td>18</td>\n",
       "      <td>F</td>\n",
       "      <td>Sem Resposta</td>\n",
       "      <td>Nao</td>\n",
       "      <td>9980.00 até 11976.00</td>\n",
       "      <td>760.0</td>\n",
       "      <td>RS</td>\n",
       "      <td>WESTFÁLIA</td>\n",
       "      <td>4323770</td>\n",
       "      <td>627.425</td>\n",
       "      <td>693.7125</td>\n",
       "    </tr>\n",
       "    <tr>\n",
       "      <th>3031684</th>\n",
       "      <td>17</td>\n",
       "      <td>F</td>\n",
       "      <td>Publica</td>\n",
       "      <td>Nao</td>\n",
       "      <td>1996.00 até 2495.00</td>\n",
       "      <td>540.0</td>\n",
       "      <td>RS</td>\n",
       "      <td>WESTFÁLIA</td>\n",
       "      <td>4323770</td>\n",
       "      <td>537.425</td>\n",
       "      <td>538.7125</td>\n",
       "    </tr>\n",
       "    <tr>\n",
       "      <th>3038821</th>\n",
       "      <td>17</td>\n",
       "      <td>M</td>\n",
       "      <td>Publica</td>\n",
       "      <td>Nao</td>\n",
       "      <td>2994.00 até 3992.00</td>\n",
       "      <td>560.0</td>\n",
       "      <td>RS</td>\n",
       "      <td>WESTFÁLIA</td>\n",
       "      <td>4323770</td>\n",
       "      <td>557.550</td>\n",
       "      <td>558.7750</td>\n",
       "    </tr>\n",
       "    <tr>\n",
       "      <th>3243575</th>\n",
       "      <td>22</td>\n",
       "      <td>F</td>\n",
       "      <td>Sem Resposta</td>\n",
       "      <td>Nao</td>\n",
       "      <td>3992.00 até 4990.00</td>\n",
       "      <td>880.0</td>\n",
       "      <td>RS</td>\n",
       "      <td>WESTFÁLIA</td>\n",
       "      <td>4323770</td>\n",
       "      <td>596.100</td>\n",
       "      <td>738.0500</td>\n",
       "    </tr>\n",
       "    <tr>\n",
       "      <th>3674853</th>\n",
       "      <td>17</td>\n",
       "      <td>M</td>\n",
       "      <td>Publica</td>\n",
       "      <td>Nao</td>\n",
       "      <td>3992.00 até 4990.00</td>\n",
       "      <td>680.0</td>\n",
       "      <td>RS</td>\n",
       "      <td>WESTFÁLIA</td>\n",
       "      <td>4323770</td>\n",
       "      <td>675.800</td>\n",
       "      <td>677.9000</td>\n",
       "    </tr>\n",
       "    <tr>\n",
       "      <th>3766954</th>\n",
       "      <td>17</td>\n",
       "      <td>M</td>\n",
       "      <td>Publica</td>\n",
       "      <td>Nao</td>\n",
       "      <td>2495.00 até 2994.00</td>\n",
       "      <td>840.0</td>\n",
       "      <td>RS</td>\n",
       "      <td>WESTFÁLIA</td>\n",
       "      <td>4323770</td>\n",
       "      <td>641.100</td>\n",
       "      <td>740.5500</td>\n",
       "    </tr>\n",
       "    <tr>\n",
       "      <th>4938908</th>\n",
       "      <td>29</td>\n",
       "      <td>M</td>\n",
       "      <td>Sem Resposta</td>\n",
       "      <td>Sim</td>\n",
       "      <td>1497.00 até 1996.00</td>\n",
       "      <td>560.0</td>\n",
       "      <td>RS</td>\n",
       "      <td>WESTFÁLIA</td>\n",
       "      <td>4323770</td>\n",
       "      <td>568.450</td>\n",
       "      <td>564.2250</td>\n",
       "    </tr>\n",
       "  </tbody>\n",
       "</table>\n",
       "</div>"
      ],
      "text/plain": [
       "         idade sexo  tipo_ens_med internet_na_residencia  \\\n",
       "1657598     17    M       Publica                    Nao   \n",
       "1902054     18    F  Sem Resposta                    Nao   \n",
       "3031684     17    F       Publica                    Nao   \n",
       "3038821     17    M       Publica                    Nao   \n",
       "3243575     22    F  Sem Resposta                    Nao   \n",
       "3674853     17    M       Publica                    Nao   \n",
       "3766954     17    M       Publica                    Nao   \n",
       "4938908     29    M  Sem Resposta                    Sim   \n",
       "\n",
       "        renda_mensal_familiar  nota_redacao estado  municipio  municipio_id  \\\n",
       "1657598   3992.00 até 4990.00         740.0     RS  WESTFÁLIA       4323770   \n",
       "1902054  9980.00 até 11976.00         760.0     RS  WESTFÁLIA       4323770   \n",
       "3031684   1996.00 até 2495.00         540.0     RS  WESTFÁLIA       4323770   \n",
       "3038821   2994.00 até 3992.00         560.0     RS  WESTFÁLIA       4323770   \n",
       "3243575   3992.00 até 4990.00         880.0     RS  WESTFÁLIA       4323770   \n",
       "3674853   3992.00 até 4990.00         680.0     RS  WESTFÁLIA       4323770   \n",
       "3766954   2495.00 até 2994.00         840.0     RS  WESTFÁLIA       4323770   \n",
       "4938908   1497.00 até 1996.00         560.0     RS  WESTFÁLIA       4323770   \n",
       "\n",
       "         nota_objetivas  nota_geral  \n",
       "1657598         631.975    685.9875  \n",
       "1902054         627.425    693.7125  \n",
       "3031684         537.425    538.7125  \n",
       "3038821         557.550    558.7750  \n",
       "3243575         596.100    738.0500  \n",
       "3674853         675.800    677.9000  \n",
       "3766954         641.100    740.5500  \n",
       "4938908         568.450    564.2250  "
      ]
     },
     "execution_count": 38,
     "metadata": {},
     "output_type": "execute_result"
    }
   ],
   "source": [
    "enem[enem.municipio==\"WESTFÁLIA\"]"
   ]
  },
  {
   "cell_type": "markdown",
   "id": "6e9b47a3",
   "metadata": {},
   "source": [
    "Buscando explorar um pouco mais sobre o município com a maior média, resolvi criar uma tabela com os 8 candidatos. Deste modo fica mais claro, o modo como a média ficou favorecida por haver apenas 8 cadidatos deste município, nos quais 5 tiraram mais que 670 (que já é uma nota maior que a média da segunda posição da tabela anterior)."
   ]
  },
  {
   "cell_type": "code",
   "execution_count": 39,
   "id": "c4bde6ac",
   "metadata": {},
   "outputs": [
    {
     "data": {
      "text/html": [
       "<div>\n",
       "<style scoped>\n",
       "    .dataframe tbody tr th:only-of-type {\n",
       "        vertical-align: middle;\n",
       "    }\n",
       "\n",
       "    .dataframe tbody tr th {\n",
       "        vertical-align: top;\n",
       "    }\n",
       "\n",
       "    .dataframe thead th {\n",
       "        text-align: right;\n",
       "    }\n",
       "</style>\n",
       "<table border=\"1\" class=\"dataframe\">\n",
       "  <thead>\n",
       "    <tr style=\"text-align: right;\">\n",
       "      <th></th>\n",
       "      <th>idade</th>\n",
       "      <th>nota_redacao</th>\n",
       "      <th>municipio_id</th>\n",
       "      <th>nota_objetivas</th>\n",
       "      <th>nota_geral</th>\n",
       "      <th>quantidade_candidatos</th>\n",
       "    </tr>\n",
       "    <tr>\n",
       "      <th>municipio</th>\n",
       "      <th></th>\n",
       "      <th></th>\n",
       "      <th></th>\n",
       "      <th></th>\n",
       "      <th></th>\n",
       "      <th></th>\n",
       "    </tr>\n",
       "  </thead>\n",
       "  <tbody>\n",
       "    <tr>\n",
       "      <th>BENJAMIN CONSTANT</th>\n",
       "      <td>22.856230</td>\n",
       "      <td>341.533546</td>\n",
       "      <td>1300607.0</td>\n",
       "      <td>428.961981</td>\n",
       "      <td>385.247764</td>\n",
       "      <td>626</td>\n",
       "    </tr>\n",
       "    <tr>\n",
       "      <th>UARINI</th>\n",
       "      <td>21.293103</td>\n",
       "      <td>366.206897</td>\n",
       "      <td>1304260.0</td>\n",
       "      <td>436.414655</td>\n",
       "      <td>401.310776</td>\n",
       "      <td>58</td>\n",
       "    </tr>\n",
       "    <tr>\n",
       "      <th>PORTO ESTRELA</th>\n",
       "      <td>21.550000</td>\n",
       "      <td>384.500000</td>\n",
       "      <td>5106851.0</td>\n",
       "      <td>432.122500</td>\n",
       "      <td>408.311250</td>\n",
       "      <td>40</td>\n",
       "    </tr>\n",
       "    <tr>\n",
       "      <th>PORTEIRÃO</th>\n",
       "      <td>20.166667</td>\n",
       "      <td>394.444444</td>\n",
       "      <td>5218052.0</td>\n",
       "      <td>441.550000</td>\n",
       "      <td>417.997222</td>\n",
       "      <td>18</td>\n",
       "    </tr>\n",
       "    <tr>\n",
       "      <th>AMATURÁ</th>\n",
       "      <td>20.227273</td>\n",
       "      <td>409.636364</td>\n",
       "      <td>1300060.0</td>\n",
       "      <td>430.839773</td>\n",
       "      <td>420.238068</td>\n",
       "      <td>110</td>\n",
       "    </tr>\n",
       "  </tbody>\n",
       "</table>\n",
       "</div>"
      ],
      "text/plain": [
       "                       idade  nota_redacao  municipio_id  nota_objetivas  \\\n",
       "municipio                                                                  \n",
       "BENJAMIN CONSTANT  22.856230    341.533546     1300607.0      428.961981   \n",
       "UARINI             21.293103    366.206897     1304260.0      436.414655   \n",
       "PORTO ESTRELA      21.550000    384.500000     5106851.0      432.122500   \n",
       "PORTEIRÃO          20.166667    394.444444     5218052.0      441.550000   \n",
       "AMATURÁ            20.227273    409.636364     1300060.0      430.839773   \n",
       "\n",
       "                   nota_geral  quantidade_candidatos  \n",
       "municipio                                             \n",
       "BENJAMIN CONSTANT  385.247764                    626  \n",
       "UARINI             401.310776                     58  \n",
       "PORTO ESTRELA      408.311250                     40  \n",
       "PORTEIRÃO          417.997222                     18  \n",
       "AMATURÁ            420.238068                    110  "
      ]
     },
     "execution_count": 39,
     "metadata": {},
     "output_type": "execute_result"
    }
   ],
   "source": [
    "enem_municipio.tail(5).sort_values(by=\"nota_geral\")"
   ]
  },
  {
   "cell_type": "markdown",
   "id": "49deb0c6",
   "metadata": {},
   "source": [
    "<b>A tabela acima descreve os 5 municípios com as menores médias em relação a nota geral da prova.\n",
    "\n",
    "Ao realizar uma breve pesquisa a respeito dos municípios que constam na tabela, pude perceber que há 3 municípios (Benjamin Constant, Uarini, Amaturá) pertencentes ao estado do Amazonas, que, como observado anteriormente, possui a menor média entre os estados. Os outros municipíos pertencem ao Mato Grosso (Porto Estrela) e Goiás (Porteirão).<br>\n",
    "    Também percebe-se um número baixo de candidatos em alguns municípios (Uarini, Porto Estrela, Porteirão), o que pode contribuir para que notas baixam influenciem mais sobre a média do município."
   ]
  },
  {
   "cell_type": "markdown",
   "id": "fe67df5e",
   "metadata": {},
   "source": [
    "# Conclusões"
   ]
  },
  {
   "cell_type": "markdown",
   "id": "23fd80d7",
   "metadata": {},
   "source": [
    "Há alguns pontos interessantes levantados dentro dessa breve análise exploratória, principalmente nas diferenças observadas em relação ao tipo de ensino médio cursado pelos candidatos e a renda familiar. Essas diferenças, observadas nessas variáveis, levantam um olhar de atenção sobre a educação brasileira, principalmente sobre as escolas públicas. Onde os candidatos desse ano do ENEM (2019) possuíram médias menores, limitando seu acesso aos cursos superiores nas instituições que utilizam o a nota do ENEM como critério de ingresso.\n",
    "<br>\n",
    "<br>\n",
    "Para exemplificar um pouco mais essa diferença observada, irei recriar o gráfico de distribuição das notas gerais de acordo com o tipo de ensino, e colocarei a menor nota de corte do curso de Medicina (em 2019, registrada na Universidade Federal Rural do Semi-árido).\n"
   ]
  },
  {
   "cell_type": "code",
   "execution_count": 43,
   "id": "477d4013",
   "metadata": {
    "scrolled": true
   },
   "outputs": [
    {
     "data": {
      "image/png": "[encoded data removed]",
      "text/plain": [
       "<Figure size 979.5x504 with 1 Axes>"
      ]
     },
     "metadata": {
      "needs_background": "light"
     },
     "output_type": "display_data"
    }
   ],
   "source": [
    "# Criando o gráfico\n",
    "dist_ens = sns.displot(data=enem_ens.drop(enem[enem.tipo_ens_med == \"Sem Resposta\"].index), x=\"nota_geral\", hue=\"tipo_ens_med\",\n",
    "                         height=7, aspect=16/9)\n",
    "\n",
    "# Inserindo linha de referencia\n",
    "plt.axvline(773.83,c=\"red\",label=\"Menor nota de corte para Medicina\",alpha=0.5)\n",
    "\n",
    "# Alterando títulos\n",
    "dist_ens.set(title=\"Distribuição das Notas Gerais classificados por Tipo de Ensino Médio\",\n",
    "               xlabel=\"Nota Geral\", ylabel=\"Candidatos\")\n",
    "\n",
    "# Mostrando gráfico\n",
    "plt.legend()\n",
    "plt.show()"
   ]
  },
  {
   "cell_type": "markdown",
   "id": "64d70546",
   "metadata": {},
   "source": [
    "Essas observações, em conjunto com algumas observações sobre as diferenças dos estados e dos municípios, poderiam servir de indicadores sobre politicas publicas educacionais. Talvez, com uma pesquisa mais afunda nas politicas educacionais estaduais e municipais, e mais dados (que fogem do escopo desta analise), poderiam surgir politicas mais direcionadas aos lugares, ou fatores, de maior necessidade.\n",
    "<br>\n",
    "<br>\n",
    "Há muitas outras explorações que podem ser feitas nessa base de dados, mas para os fins de treinamento e estudos encerrei minha análise aqui. Pretendo voltar a explorar mais possibilidades nesse dataset no decorrer dos meus estudos.\n"
   ]
  }
 ],
 "metadata": {
  "kernelspec": {
   "display_name": "Python 3 (ipykernel)",
   "language": "python",
   "name": "python3"
  },
  "language_info": {
   "codemirror_mode": {
    "name": "ipython",
    "version": 3
   },
   "file_extension": ".py",
   "mimetype": "text/x-python",
   "name": "python",
   "nbconvert_exporter": "python",
   "pygments_lexer": "ipython3",
   "version": "3.9.7"
  }
 },
 "nbformat": 4,
 "nbformat_minor": 5
}
