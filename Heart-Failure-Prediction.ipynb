{
 "cells": [
  {
   "cell_type": "markdown",
   "id": "5875b979",
   "metadata": {},
   "source": [
    "## Indice"
   ]
  },
  {
   "cell_type": "code",
   "execution_count": 7,
   "id": "bc12715c",
   "metadata": {},
   "outputs": [],
   "source": [
    "# TODO"
   ]
  },
  {
   "cell_type": "markdown",
   "id": "354880f6",
   "metadata": {},
   "source": [
    "## Heart Failure\n",
    "#### Brief description"
   ]
  },
  {
   "cell_type": "code",
   "execution_count": 8,
   "id": "98da29b5",
   "metadata": {},
   "outputs": [],
   "source": [
    "# TODO"
   ]
  },
  {
   "cell_type": "markdown",
   "id": "e99bbfc1",
   "metadata": {},
   "source": [
    "## Data Dictionary"
   ]
  },
  {
   "cell_type": "markdown",
   "id": "e156470f",
   "metadata": {},
   "source": [
    "|Column|Description|\n",
    "|------|-----------|\n",
    "|*Age*|Age of the patient|\n",
    "|*Age Group*|Such as 21-30 and 31-40 are grouped|\n",
    "|*Gender*|Sex of the patient|\n",
    "|*Locality*|Rural or Urban|\n",
    "|*Marital status*|Married or unmarried|\n",
    "|*Smoking*|yes/no|\n",
    "|*Depression*|yes/no|\n",
    "|*Mortality*|Died= 0 and Alive= 1|\n",
    "|*Follow.Up*|Number of visiting time|\n",
    "|*cp*|Chest Pain type chest pain type|\n",
    "|*Diabetes*|Yes = 0 and No = 1|\n",
    "|*chol*|cholestoral in mg/dl fetched via BMI sensor|\n",
    "|*fbs*|(fasting blood sugar > 120 mg/dl) (1 = true; 0 = false)|\n",
    "|*trestbps*|resting blood pressure (in mm Hg)|\n",
    "|*rest_ecg*|resting electrocardiographic results|\n",
    "|--------|Value 0: normal|\n",
    "|--------|Value 1: having ST-T wave abnormality (T wave inversions and/or ST elevation or depression of > 0.05 mV)|\n",
    "|--------|Value 2: showing probable or definite left ventricular hypertrophy by Estes' criteria|\n",
    "|*thalach*|maximum heart rate achieved|\n"
   ]
  },
  {
   "cell_type": "code",
   "execution_count": 9,
   "id": "15d85b62",
   "metadata": {},
   "outputs": [],
   "source": [
    "# TODO"
   ]
  },
  {
   "cell_type": "markdown",
   "id": "a3bd3709",
   "metadata": {},
   "source": [
    "## Dataset overview"
   ]
  },
  {
   "cell_type": "code",
   "execution_count": 6,
   "id": "05c76c0c",
   "metadata": {},
   "outputs": [
    {
     "name": "stdout",
     "output_type": "stream",
     "text": [
      "--Packages Loaded!--\n",
      "Python version: 3.9.7\n",
      "Pandas version: 1.4.3\n",
      "Numpy version: 1.21.5\n",
      "Matplotlib version: 3.5.1\n",
      "Seaborn version: 0.11.2\n"
     ]
    }
   ],
   "source": [
    "# Importing Libraries\n",
    "\n",
    "import pandas as pd\n",
    "import numpy as np\n",
    "import matplotlib\n",
    "import matplotlib.pyplot as plt\n",
    "import seaborn as sns\n",
    "\n",
    "from platform import python_version\n",
    "%matplotlib inline\n",
    "\n",
    "print(\"--Packages Loaded!--\")\n",
    "print(\"Python version: {}\".format(python_version()))\n",
    "print(\"Pandas version: {}\".format(pd.__version__))\n",
    "print(\"Numpy version: {}\".format(np.__version__))\n",
    "print(\"Matplotlib version: {}\".format(matplotlib.__version__))\n",
    "print(\"Seaborn version: {}\".format(sns.__version__))\n"
   ]
  },
  {
   "cell_type": "markdown",
   "id": "3c9621b4",
   "metadata": {},
   "source": [
    "Aiming to pratice my Machine Learning and Data Analytics skills, I'm going to use just 11 variables from the dataset.\n",
    "<br>\n",
    "**I will be looking to improve this prediction algorithm in the future**"
   ]
  },
  {
   "cell_type": "code",
   "execution_count": 10,
   "id": "523afac8",
   "metadata": {
    "scrolled": false
   },
   "outputs": [
    {
     "data": {
      "text/html": [
       "<div>\n",
       "<style scoped>\n",
       "    .dataframe tbody tr th:only-of-type {\n",
       "        vertical-align: middle;\n",
       "    }\n",
       "\n",
       "    .dataframe tbody tr th {\n",
       "        vertical-align: top;\n",
       "    }\n",
       "\n",
       "    .dataframe thead th {\n",
       "        text-align: right;\n",
       "    }\n",
       "</style>\n",
       "<table border=\"1\" class=\"dataframe\">\n",
       "  <thead>\n",
       "    <tr style=\"text-align: right;\">\n",
       "      <th></th>\n",
       "      <th>Age</th>\n",
       "      <th>Gender</th>\n",
       "      <th>Depression</th>\n",
       "      <th>Smoking</th>\n",
       "      <th>Family.History</th>\n",
       "      <th>Diabetes</th>\n",
       "      <th>C.P.K</th>\n",
       "      <th>Hemoglobin</th>\n",
       "      <th>trestbps</th>\n",
       "      <th>fbs</th>\n",
       "      <th>thalach</th>\n",
       "      <th>Mortality</th>\n",
       "    </tr>\n",
       "  </thead>\n",
       "  <tbody>\n",
       "    <tr>\n",
       "      <th>0</th>\n",
       "      <td>45</td>\n",
       "      <td>Female</td>\n",
       "      <td>YES</td>\n",
       "      <td>NO</td>\n",
       "      <td>NO</td>\n",
       "      <td>1</td>\n",
       "      <td>130</td>\n",
       "      <td>11.6</td>\n",
       "      <td>132</td>\n",
       "      <td>1</td>\n",
       "      <td>136</td>\n",
       "      <td>0</td>\n",
       "    </tr>\n",
       "    <tr>\n",
       "      <th>1</th>\n",
       "      <td>51</td>\n",
       "      <td>Female</td>\n",
       "      <td>YES</td>\n",
       "      <td>NO</td>\n",
       "      <td>NO</td>\n",
       "      <td>0</td>\n",
       "      <td>163</td>\n",
       "      <td>14.5</td>\n",
       "      <td>130</td>\n",
       "      <td>0</td>\n",
       "      <td>142</td>\n",
       "      <td>0</td>\n",
       "    </tr>\n",
       "    <tr>\n",
       "      <th>2</th>\n",
       "      <td>55</td>\n",
       "      <td>Female</td>\n",
       "      <td>YES</td>\n",
       "      <td>NO</td>\n",
       "      <td>NO</td>\n",
       "      <td>1</td>\n",
       "      <td>149</td>\n",
       "      <td>14.1</td>\n",
       "      <td>180</td>\n",
       "      <td>0</td>\n",
       "      <td>117</td>\n",
       "      <td>0</td>\n",
       "    </tr>\n",
       "    <tr>\n",
       "      <th>3</th>\n",
       "      <td>55</td>\n",
       "      <td>Female</td>\n",
       "      <td>YES</td>\n",
       "      <td>NO</td>\n",
       "      <td>NO</td>\n",
       "      <td>1</td>\n",
       "      <td>149</td>\n",
       "      <td>14.1</td>\n",
       "      <td>128</td>\n",
       "      <td>0</td>\n",
       "      <td>130</td>\n",
       "      <td>0</td>\n",
       "    </tr>\n",
       "    <tr>\n",
       "      <th>4</th>\n",
       "      <td>56</td>\n",
       "      <td>Female</td>\n",
       "      <td>YES</td>\n",
       "      <td>NO</td>\n",
       "      <td>NO</td>\n",
       "      <td>1</td>\n",
       "      <td>75</td>\n",
       "      <td>12.3</td>\n",
       "      <td>200</td>\n",
       "      <td>1</td>\n",
       "      <td>133</td>\n",
       "      <td>0</td>\n",
       "    </tr>\n",
       "  </tbody>\n",
       "</table>\n",
       "</div>"
      ],
      "text/plain": [
       "   Age  Gender Depression Smoking Family.History  Diabetes  C.P.K  Hemoglobin  \\\n",
       "0   45  Female        YES      NO             NO         1    130        11.6   \n",
       "1   51  Female        YES      NO             NO         0    163        14.5   \n",
       "2   55  Female        YES      NO             NO         1    149        14.1   \n",
       "3   55  Female        YES      NO             NO         1    149        14.1   \n",
       "4   56  Female        YES      NO             NO         1     75        12.3   \n",
       "\n",
       "   trestbps  fbs  thalach  Mortality  \n",
       "0       132    1      136          0  \n",
       "1       130    0      142          0  \n",
       "2       180    0      117          0  \n",
       "3       128    0      130          0  \n",
       "4       200    1      133          0  "
      ]
     },
     "execution_count": 10,
     "metadata": {},
     "output_type": "execute_result"
    }
   ],
   "source": [
    "# Reading the dataset and seeing the first 10 rows\n",
    "\n",
    "df = pd.read_csv(\"FIC.Full.csv\",\n",
    "                 usecols=[\"Age\",\"Gender\",\"Hemoglobin\",\"Depression\",\"Smoking\",\"Diabetes\",\"Family.History\",\"C.P.K\",\"Mortality\",\"trestbps\",\"fbs\",\"thalach\"], \n",
    "                 sep=\",\", low_memory=False)\n",
    "\n",
    "# Print the first 5 rows from the dataset\n",
    "df.head(5)"
   ]
  },
  {
   "cell_type": "code",
   "execution_count": 11,
   "id": "c80060b2",
   "metadata": {},
   "outputs": [
    {
     "name": "stdout",
     "output_type": "stream",
     "text": [
      "This dataset has 368 rows and 12 cloumns\n"
     ]
    }
   ],
   "source": [
    "print(\"This dataset has {} rows and {} cloumns\".format(df.shape[0], df.shape[1]))"
   ]
  },
  {
   "cell_type": "code",
   "execution_count": 12,
   "id": "225f44c2",
   "metadata": {
    "scrolled": true
   },
   "outputs": [
    {
     "data": {
      "text/plain": [
       "['Age',\n",
       " 'Gender',\n",
       " 'Depression',\n",
       " 'Smoking',\n",
       " 'Family.History',\n",
       " 'Diabetes',\n",
       " 'C.P.K',\n",
       " 'Hemoglobin',\n",
       " 'trestbps',\n",
       " 'fbs',\n",
       " 'thalach',\n",
       " 'Mortality']"
      ]
     },
     "execution_count": 12,
     "metadata": {},
     "output_type": "execute_result"
    }
   ],
   "source": [
    "# Checking the columns\n",
    "\n",
    "list(df.columns)"
   ]
  },
  {
   "cell_type": "code",
   "execution_count": 13,
   "id": "9379c6f5",
   "metadata": {
    "scrolled": true
   },
   "outputs": [
    {
     "data": {
      "text/plain": [
       "Age               0\n",
       "Gender            0\n",
       "Depression        0\n",
       "Smoking           0\n",
       "Family.History    0\n",
       "Diabetes          0\n",
       "C.P.K             0\n",
       "Hemoglobin        0\n",
       "trestbps          0\n",
       "fbs               0\n",
       "thalach           0\n",
       "Mortality         0\n",
       "dtype: int64"
      ]
     },
     "execution_count": 13,
     "metadata": {},
     "output_type": "execute_result"
    }
   ],
   "source": [
    "# Checking for NULL values\n",
    "\n",
    "df.isna().sum()"
   ]
  },
  {
   "cell_type": "markdown",
   "id": "845eeec2",
   "metadata": {},
   "source": [
    "It seems there aren't NULL values"
   ]
  },
  {
   "cell_type": "code",
   "execution_count": 14,
   "id": "08a0c522",
   "metadata": {
    "scrolled": true
   },
   "outputs": [
    {
     "data": {
      "text/plain": [
       "Age                 int64\n",
       "Gender             object\n",
       "Depression         object\n",
       "Smoking            object\n",
       "Family.History     object\n",
       "Diabetes            int64\n",
       "C.P.K               int64\n",
       "Hemoglobin        float64\n",
       "trestbps            int64\n",
       "fbs                 int64\n",
       "thalach             int64\n",
       "Mortality           int64\n",
       "dtype: object"
      ]
     },
     "execution_count": 14,
     "metadata": {},
     "output_type": "execute_result"
    }
   ],
   "source": [
    "df.dtypes"
   ]
  },
  {
   "cell_type": "code",
   "execution_count": 15,
   "id": "a44dba21",
   "metadata": {},
   "outputs": [
    {
     "data": {
      "image/png": "[encoded data removed]",
      "text/plain": [
       "<Figure size 576x864 with 2 Axes>"
      ]
     },
     "metadata": {
      "needs_background": "light"
     },
     "output_type": "display_data"
    }
   ],
   "source": [
    "plt.figure(figsize=(8,12))\n",
    "\n",
    "corr_mortality = df.corr()[['Mortality']].sort_values(by=\"Mortality\", ascending=False)\n",
    "\n",
    "heatmap = sns.heatmap(corr_mortality, vmax=1,vmin=-1, annot=True, cmap=\"viridis\")"
   ]
  },
  {
   "cell_type": "code",
   "execution_count": 16,
   "id": "a4fb55df",
   "metadata": {},
   "outputs": [
    {
     "data": {
      "text/plain": [
       "<AxesSubplot:xlabel='Mortality', ylabel='Age'>"
      ]
     },
     "execution_count": 16,
     "metadata": {},
     "output_type": "execute_result"
    },
    {
     "data": {
      "image/png": "[encoded data removed]",
      "text/plain": [
       "<Figure size 432x288 with 1 Axes>"
      ]
     },
     "metadata": {
      "needs_background": "light"
     },
     "output_type": "display_data"
    }
   ],
   "source": [
    "sns.scatterplot(data = df,y = \"Age\", x = \"Mortality\")"
   ]
  }
 ],
 "metadata": {
  "kernelspec": {
   "display_name": "Python 3 (ipykernel)",
   "language": "python",
   "name": "python3"
  },
  "language_info": {
   "codemirror_mode": {
    "name": "ipython",
    "version": 3
   },
   "file_extension": ".py",
   "mimetype": "text/x-python",
   "name": "python",
   "nbconvert_exporter": "python",
   "pygments_lexer": "ipython3",
   "version": "3.9.7"
  }
 },
 "nbformat": 4,
 "nbformat_minor": 5
}
