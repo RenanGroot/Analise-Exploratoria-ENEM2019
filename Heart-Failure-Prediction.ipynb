{
 "cells": [
  {
   "cell_type": "markdown",
   "id": "dae7f701",
   "metadata": {},
   "source": [
    "# (Notebook still in progress) "
   ]
  },
  {
   "cell_type": "markdown",
   "id": "5875b979",
   "metadata": {},
   "source": [
    "## Indice"
   ]
  },
  {
   "cell_type": "code",
   "execution_count": 1,
   "id": "bc12715c",
   "metadata": {},
   "outputs": [],
   "source": [
    "# TODO"
   ]
  },
  {
   "cell_type": "markdown",
   "id": "354880f6",
   "metadata": {},
   "source": [
    "## Heart Failure\n",
    "#### Brief description"
   ]
  },
  {
   "cell_type": "code",
   "execution_count": 2,
   "id": "98da29b5",
   "metadata": {},
   "outputs": [],
   "source": [
    "# TODO"
   ]
  },
  {
   "cell_type": "markdown",
   "id": "e99bbfc1",
   "metadata": {},
   "source": [
    "## Data Dictionary"
   ]
  },
  {
   "cell_type": "markdown",
   "id": "e156470f",
   "metadata": {},
   "source": [
    "|Column|Description|\n",
    "|------|-----------|\n",
    "|*Age*|Age of the patient|\n",
    "|*Age Group*|Such as 21-30 and 31-40 are grouped|\n",
    "|*Gender*|Sex of the patient|\n",
    "|*Locality*|Rural or Urban|\n",
    "|*Marital status*|Married or unmarried|\n",
    "|*Smoking*|yes/no|\n",
    "|*Depression*|yes/no|\n",
    "|*Mortality*|Died= 0 and Alive= 1|\n",
    "|*Follow.Up*|Number of visiting time|\n",
    "|*cp*|Chest Pain type chest pain type|\n",
    "|*Diabetes*|Yes = 0 and No = 1|\n",
    "|*chol*|cholestoral in mg/dl fetched via BMI sensor|\n",
    "|*fbs*|(fasting blood sugar > 120 mg/dl) (1 = true; 0 = false)|\n",
    "|*trestbps*|resting blood pressure (in mm Hg)|\n",
    "|*rest_ecg*|resting electrocardiographic results|\n",
    "|--------|Value 0: normal|\n",
    "|--------|Value 1: having ST-T wave abnormality (T wave inversions and/or ST elevation or depression of > 0.05 mV)|\n",
    "|--------|Value 2: showing probable or definite left ventricular hypertrophy by Estes' criteria|\n",
    "|*thalach*|maximum heart rate achieved|\n"
   ]
  },
  {
   "cell_type": "code",
   "execution_count": 3,
   "id": "15d85b62",
   "metadata": {},
   "outputs": [],
   "source": [
    "# TODO"
   ]
  },
  {
   "cell_type": "markdown",
   "id": "a3bd3709",
   "metadata": {},
   "source": [
    "## Dataset overview"
   ]
  },
  {
   "cell_type": "code",
   "execution_count": 42,
   "id": "05c76c0c",
   "metadata": {},
   "outputs": [
    {
     "name": "stdout",
     "output_type": "stream",
     "text": [
      "--Packages Loaded!--\n",
      "Python version: 3.9.7\n",
      "Pandas version: 1.4.3\n",
      "Numpy version: 1.21.5\n",
      "Matplotlib version: 3.5.1\n",
      "Seaborn version: 0.11.2\n"
     ]
    }
   ],
   "source": [
    "# Importing Libraries\n",
    "\n",
    "import pandas as pd\n",
    "import numpy as np\n",
    "import matplotlib\n",
    "import matplotlib.pyplot as plt\n",
    "import seaborn as sns\n",
    "from scipy import stats\n",
    "\n",
    "from platform import python_version\n",
    "%matplotlib inline\n",
    "\n",
    "print(\"--Packages Loaded!--\")\n",
    "print(\"Python version: {}\".format(python_version()))\n",
    "print(\"Pandas version: {}\".format(pd.__version__))\n",
    "print(\"Numpy version: {}\".format(np.__version__))\n",
    "print(\"Matplotlib version: {}\".format(matplotlib.__version__))\n",
    "print(\"Seaborn version: {}\".format(sns.__version__))"
   ]
  },
  {
   "cell_type": "markdown",
   "id": "86e4d43c",
   "metadata": {},
   "source": [
    "Aiming to pratice my Machine Learning and Data Analytics skills, I'm going to use just 11 variables from the dataset.\n",
    "<br>\n",
    "**I will be looking to improve this prediction algorithm in the future**"
   ]
  },
  {
   "cell_type": "code",
   "execution_count": 5,
   "id": "523afac8",
   "metadata": {
    "scrolled": false
   },
   "outputs": [
    {
     "data": {
      "text/html": [
       "<div>\n",
       "<style scoped>\n",
       "    .dataframe tbody tr th:only-of-type {\n",
       "        vertical-align: middle;\n",
       "    }\n",
       "\n",
       "    .dataframe tbody tr th {\n",
       "        vertical-align: top;\n",
       "    }\n",
       "\n",
       "    .dataframe thead th {\n",
       "        text-align: right;\n",
       "    }\n",
       "</style>\n",
       "<table border=\"1\" class=\"dataframe\">\n",
       "  <thead>\n",
       "    <tr style=\"text-align: right;\">\n",
       "      <th></th>\n",
       "      <th>Age</th>\n",
       "      <th>Gender</th>\n",
       "      <th>Depression</th>\n",
       "      <th>Smoking</th>\n",
       "      <th>Family.History</th>\n",
       "      <th>Diabetes</th>\n",
       "      <th>C.P.K</th>\n",
       "      <th>Hemoglobin</th>\n",
       "      <th>trestbps</th>\n",
       "      <th>chol</th>\n",
       "      <th>thalach</th>\n",
       "      <th>Mortality</th>\n",
       "    </tr>\n",
       "  </thead>\n",
       "  <tbody>\n",
       "    <tr>\n",
       "      <th>0</th>\n",
       "      <td>45</td>\n",
       "      <td>Female</td>\n",
       "      <td>YES</td>\n",
       "      <td>NO</td>\n",
       "      <td>NO</td>\n",
       "      <td>1</td>\n",
       "      <td>130</td>\n",
       "      <td>11.6</td>\n",
       "      <td>132</td>\n",
       "      <td>341</td>\n",
       "      <td>136</td>\n",
       "      <td>0</td>\n",
       "    </tr>\n",
       "    <tr>\n",
       "      <th>1</th>\n",
       "      <td>51</td>\n",
       "      <td>Female</td>\n",
       "      <td>YES</td>\n",
       "      <td>NO</td>\n",
       "      <td>NO</td>\n",
       "      <td>0</td>\n",
       "      <td>163</td>\n",
       "      <td>14.5</td>\n",
       "      <td>130</td>\n",
       "      <td>305</td>\n",
       "      <td>142</td>\n",
       "      <td>0</td>\n",
       "    </tr>\n",
       "    <tr>\n",
       "      <th>2</th>\n",
       "      <td>55</td>\n",
       "      <td>Female</td>\n",
       "      <td>YES</td>\n",
       "      <td>NO</td>\n",
       "      <td>NO</td>\n",
       "      <td>1</td>\n",
       "      <td>149</td>\n",
       "      <td>14.1</td>\n",
       "      <td>180</td>\n",
       "      <td>327</td>\n",
       "      <td>117</td>\n",
       "      <td>0</td>\n",
       "    </tr>\n",
       "    <tr>\n",
       "      <th>3</th>\n",
       "      <td>55</td>\n",
       "      <td>Female</td>\n",
       "      <td>YES</td>\n",
       "      <td>NO</td>\n",
       "      <td>NO</td>\n",
       "      <td>1</td>\n",
       "      <td>149</td>\n",
       "      <td>14.1</td>\n",
       "      <td>128</td>\n",
       "      <td>205</td>\n",
       "      <td>130</td>\n",
       "      <td>0</td>\n",
       "    </tr>\n",
       "    <tr>\n",
       "      <th>4</th>\n",
       "      <td>56</td>\n",
       "      <td>Female</td>\n",
       "      <td>YES</td>\n",
       "      <td>NO</td>\n",
       "      <td>NO</td>\n",
       "      <td>1</td>\n",
       "      <td>75</td>\n",
       "      <td>12.3</td>\n",
       "      <td>200</td>\n",
       "      <td>288</td>\n",
       "      <td>133</td>\n",
       "      <td>0</td>\n",
       "    </tr>\n",
       "  </tbody>\n",
       "</table>\n",
       "</div>"
      ],
      "text/plain": [
       "   Age  Gender Depression Smoking Family.History  Diabetes  C.P.K  Hemoglobin  \\\n",
       "0   45  Female        YES      NO             NO         1    130        11.6   \n",
       "1   51  Female        YES      NO             NO         0    163        14.5   \n",
       "2   55  Female        YES      NO             NO         1    149        14.1   \n",
       "3   55  Female        YES      NO             NO         1    149        14.1   \n",
       "4   56  Female        YES      NO             NO         1     75        12.3   \n",
       "\n",
       "   trestbps  chol  thalach  Mortality  \n",
       "0       132   341      136          0  \n",
       "1       130   305      142          0  \n",
       "2       180   327      117          0  \n",
       "3       128   205      130          0  \n",
       "4       200   288      133          0  "
      ]
     },
     "execution_count": 5,
     "metadata": {},
     "output_type": "execute_result"
    }
   ],
   "source": [
    "# Reading the dataset and seeing the first 10 rows\n",
    "\n",
    "df = pd.read_csv(\"FIC.Full.csv\",\n",
    "                 usecols=[\"Age\",\"Gender\",\"Hemoglobin\",\"Depression\",\"Smoking\",\"Diabetes\",\"Family.History\",\"C.P.K\",\"Mortality\",\"trestbps\",\"chol\",\"thalach\"], \n",
    "                 sep=\",\", low_memory=False)\n",
    "\n",
    "# Print the first 5 rows from the dataset\n",
    "df.head(5)"
   ]
  },
  {
   "cell_type": "code",
   "execution_count": 6,
   "id": "c80060b2",
   "metadata": {},
   "outputs": [
    {
     "name": "stdout",
     "output_type": "stream",
     "text": [
      "This dataset has 368 rows and 12 cloumns\n"
     ]
    }
   ],
   "source": [
    "print(\"This dataset has {} rows and {} cloumns\".format(df.shape[0], df.shape[1]))"
   ]
  },
  {
   "cell_type": "code",
   "execution_count": 7,
   "id": "225f44c2",
   "metadata": {
    "scrolled": true
   },
   "outputs": [
    {
     "data": {
      "text/plain": [
       "['Age',\n",
       " 'Gender',\n",
       " 'Depression',\n",
       " 'Smoking',\n",
       " 'Family.History',\n",
       " 'Diabetes',\n",
       " 'C.P.K',\n",
       " 'Hemoglobin',\n",
       " 'trestbps',\n",
       " 'chol',\n",
       " 'thalach',\n",
       " 'Mortality']"
      ]
     },
     "execution_count": 7,
     "metadata": {},
     "output_type": "execute_result"
    }
   ],
   "source": [
    "# Checking the columns\n",
    "\n",
    "list(df.columns)"
   ]
  },
  {
   "cell_type": "code",
   "execution_count": 36,
   "id": "9f8d15cb",
   "metadata": {},
   "outputs": [],
   "source": [
    "# Changing columns names\n",
    "\n",
    "df.rename(columns={\"C.P.K\":\"CPK\",\"trestbps\":\"BloodPressRest\",\"chol\":\"cholestoral\",\"thalach\":\"MaxHeartRate\"}, inplace=True)"
   ]
  },
  {
   "cell_type": "code",
   "execution_count": 37,
   "id": "6e1aa377",
   "metadata": {},
   "outputs": [
    {
     "data": {
      "text/html": [
       "<div>\n",
       "<style scoped>\n",
       "    .dataframe tbody tr th:only-of-type {\n",
       "        vertical-align: middle;\n",
       "    }\n",
       "\n",
       "    .dataframe tbody tr th {\n",
       "        vertical-align: top;\n",
       "    }\n",
       "\n",
       "    .dataframe thead th {\n",
       "        text-align: right;\n",
       "    }\n",
       "</style>\n",
       "<table border=\"1\" class=\"dataframe\">\n",
       "  <thead>\n",
       "    <tr style=\"text-align: right;\">\n",
       "      <th></th>\n",
       "      <th>Age</th>\n",
       "      <th>Diabetes</th>\n",
       "      <th>CPK</th>\n",
       "      <th>Hemoglobin</th>\n",
       "      <th>BloodPressRest</th>\n",
       "      <th>cholestoral</th>\n",
       "      <th>MaxHeartRate</th>\n",
       "      <th>Mortality</th>\n",
       "    </tr>\n",
       "  </thead>\n",
       "  <tbody>\n",
       "    <tr>\n",
       "      <th>count</th>\n",
       "      <td>368.000000</td>\n",
       "      <td>368.000000</td>\n",
       "      <td>368.000000</td>\n",
       "      <td>368.000000</td>\n",
       "      <td>368.000000</td>\n",
       "      <td>368.000000</td>\n",
       "      <td>368.000000</td>\n",
       "      <td>368.000000</td>\n",
       "    </tr>\n",
       "    <tr>\n",
       "      <th>mean</th>\n",
       "      <td>54.293478</td>\n",
       "      <td>0.538043</td>\n",
       "      <td>553.888587</td>\n",
       "      <td>13.907880</td>\n",
       "      <td>132.741848</td>\n",
       "      <td>248.940217</td>\n",
       "      <td>140.923913</td>\n",
       "      <td>0.782609</td>\n",
       "    </tr>\n",
       "    <tr>\n",
       "      <th>std</th>\n",
       "      <td>8.718158</td>\n",
       "      <td>0.499229</td>\n",
       "      <td>957.605017</td>\n",
       "      <td>2.160134</td>\n",
       "      <td>18.194265</td>\n",
       "      <td>50.126453</td>\n",
       "      <td>22.994601</td>\n",
       "      <td>0.413033</td>\n",
       "    </tr>\n",
       "    <tr>\n",
       "      <th>min</th>\n",
       "      <td>24.000000</td>\n",
       "      <td>0.000000</td>\n",
       "      <td>52.000000</td>\n",
       "      <td>9.100000</td>\n",
       "      <td>100.000000</td>\n",
       "      <td>131.000000</td>\n",
       "      <td>71.000000</td>\n",
       "      <td>0.000000</td>\n",
       "    </tr>\n",
       "    <tr>\n",
       "      <th>25%</th>\n",
       "      <td>50.750000</td>\n",
       "      <td>0.000000</td>\n",
       "      <td>135.000000</td>\n",
       "      <td>12.300000</td>\n",
       "      <td>120.000000</td>\n",
       "      <td>212.000000</td>\n",
       "      <td>125.000000</td>\n",
       "      <td>1.000000</td>\n",
       "    </tr>\n",
       "    <tr>\n",
       "      <th>50%</th>\n",
       "      <td>55.000000</td>\n",
       "      <td>1.000000</td>\n",
       "      <td>188.000000</td>\n",
       "      <td>14.200000</td>\n",
       "      <td>130.000000</td>\n",
       "      <td>249.000000</td>\n",
       "      <td>144.000000</td>\n",
       "      <td>1.000000</td>\n",
       "    </tr>\n",
       "    <tr>\n",
       "      <th>75%</th>\n",
       "      <td>60.250000</td>\n",
       "      <td>1.000000</td>\n",
       "      <td>390.000000</td>\n",
       "      <td>15.500000</td>\n",
       "      <td>142.000000</td>\n",
       "      <td>283.000000</td>\n",
       "      <td>158.000000</td>\n",
       "      <td>1.000000</td>\n",
       "    </tr>\n",
       "    <tr>\n",
       "      <th>max</th>\n",
       "      <td>77.000000</td>\n",
       "      <td>1.000000</td>\n",
       "      <td>4289.000000</td>\n",
       "      <td>18.000000</td>\n",
       "      <td>200.000000</td>\n",
       "      <td>409.000000</td>\n",
       "      <td>195.000000</td>\n",
       "      <td>1.000000</td>\n",
       "    </tr>\n",
       "  </tbody>\n",
       "</table>\n",
       "</div>"
      ],
      "text/plain": [
       "              Age    Diabetes          CPK  Hemoglobin  BloodPressRest  \\\n",
       "count  368.000000  368.000000   368.000000  368.000000      368.000000   \n",
       "mean    54.293478    0.538043   553.888587   13.907880      132.741848   \n",
       "std      8.718158    0.499229   957.605017    2.160134       18.194265   \n",
       "min     24.000000    0.000000    52.000000    9.100000      100.000000   \n",
       "25%     50.750000    0.000000   135.000000   12.300000      120.000000   \n",
       "50%     55.000000    1.000000   188.000000   14.200000      130.000000   \n",
       "75%     60.250000    1.000000   390.000000   15.500000      142.000000   \n",
       "max     77.000000    1.000000  4289.000000   18.000000      200.000000   \n",
       "\n",
       "       cholestoral  MaxHeartRate   Mortality  \n",
       "count   368.000000    368.000000  368.000000  \n",
       "mean    248.940217    140.923913    0.782609  \n",
       "std      50.126453     22.994601    0.413033  \n",
       "min     131.000000     71.000000    0.000000  \n",
       "25%     212.000000    125.000000    1.000000  \n",
       "50%     249.000000    144.000000    1.000000  \n",
       "75%     283.000000    158.000000    1.000000  \n",
       "max     409.000000    195.000000    1.000000  "
      ]
     },
     "execution_count": 37,
     "metadata": {},
     "output_type": "execute_result"
    }
   ],
   "source": [
    "# Looking over the statistcs\n",
    "\n",
    "df.describe()"
   ]
  },
  {
   "cell_type": "code",
   "execution_count": 9,
   "id": "9379c6f5",
   "metadata": {
    "scrolled": true
   },
   "outputs": [
    {
     "data": {
      "text/plain": [
       "Age               0\n",
       "Gender            0\n",
       "Depression        0\n",
       "Smoking           0\n",
       "Family.History    0\n",
       "Diabetes          0\n",
       "CPK               0\n",
       "Hemoglobin        0\n",
       "BloodPressRest    0\n",
       "cholestoral       0\n",
       "MaxHeartRate      0\n",
       "Mortality         0\n",
       "dtype: int64"
      ]
     },
     "execution_count": 9,
     "metadata": {},
     "output_type": "execute_result"
    }
   ],
   "source": [
    "# Checking for NULL values\n",
    "\n",
    "df.isna().sum()"
   ]
  },
  {
   "cell_type": "markdown",
   "id": "845eeec2",
   "metadata": {},
   "source": [
    "It seems there aren't NULL values"
   ]
  },
  {
   "cell_type": "code",
   "execution_count": 10,
   "id": "08a0c522",
   "metadata": {
    "scrolled": true
   },
   "outputs": [
    {
     "data": {
      "text/plain": [
       "Age                 int64\n",
       "Gender             object\n",
       "Depression         object\n",
       "Smoking            object\n",
       "Family.History     object\n",
       "Diabetes            int64\n",
       "CPK                 int64\n",
       "Hemoglobin        float64\n",
       "BloodPressRest      int64\n",
       "cholestoral         int64\n",
       "MaxHeartRate        int64\n",
       "Mortality           int64\n",
       "dtype: object"
      ]
     },
     "execution_count": 10,
     "metadata": {},
     "output_type": "execute_result"
    }
   ],
   "source": [
    "# Checking for data types in the dataset\n",
    "\n",
    "df.dtypes"
   ]
  },
  {
   "cell_type": "code",
   "execution_count": 11,
   "id": "c6c61200",
   "metadata": {},
   "outputs": [],
   "source": [
    "#TODO \n",
    "## Replace the Smoking and the Depression with a dummy variable"
   ]
  },
  {
   "cell_type": "markdown",
   "id": "5893683d",
   "metadata": {},
   "source": [
    "Our target variable will be the **Mortality**, wich represents if the pacient is alive (1) or has died (0)."
   ]
  },
  {
   "cell_type": "markdown",
   "id": "ed98055e",
   "metadata": {},
   "source": [
    "## Exploratory Analysis"
   ]
  },
  {
   "cell_type": "markdown",
   "id": "e0438d37",
   "metadata": {},
   "source": [
    "Looking to better understand how are the releationships (if it exists) between the others variables and the target, we will be checking the correlation (Pearson Correlation) of them."
   ]
  },
  {
   "cell_type": "markdown",
   "id": "4202adde",
   "metadata": {},
   "source": [
    "We will reverse the Mortality and Dibetes values, in order to establish as default that in the <b>presence</b> of the respective condition the <b>value 1</b> is going to be assigned, and in the <b>absence</b> of the same the <b>value 0</b> is going to be assigned."
   ]
  },
  {
   "cell_type": "code",
   "execution_count": 12,
   "id": "e86ffebb",
   "metadata": {},
   "outputs": [],
   "source": [
    "# Reversing the values from \"Diabetes\" and \"Mortality\"\n",
    "df[\"Diabetes\"].replace({1:0, 0:1}, inplace=True)\n",
    "df[\"Mortality\"].replace({1:0, 0:1}, inplace=True)"
   ]
  },
  {
   "cell_type": "code",
   "execution_count": 13,
   "id": "0a8535c5",
   "metadata": {},
   "outputs": [],
   "source": [
    "# Creating a copy dataframe replacing categorical variables for numerical ones\n",
    "df_numeric = df.copy()\n",
    "\n",
    "# Setting all the \"NO\" values to 0, and all the \"YES\" values to 1\n",
    "df_numeric = df_numeric.replace({\"YES\":1, \"NO\":0})"
   ]
  },
  {
   "cell_type": "code",
   "execution_count": 14,
   "id": "3956074d",
   "metadata": {},
   "outputs": [],
   "source": [
    "# Creating a copy dataframe replacing numeric variables for categorical ones\n",
    "df_categorical = df.copy()\n",
    "\n",
    "# Setting all 1 values to \"YES\", and all the 0 values to \"NO\"\n",
    "df_categorical[\"Mortality\"].replace({1:\"YES\", 0:\"NO\"}, inplace=True)\n",
    "df_categorical[\"Diabetes\"].replace({1:\"YES\", 0:\"NO\"}, inplace=True)"
   ]
  },
  {
   "cell_type": "markdown",
   "id": "b780be62",
   "metadata": {},
   "source": [
    "### Analysing variables (Data Visualization)\n",
    "(Comparing the variable with the target one)"
   ]
  },
  {
   "cell_type": "markdown",
   "id": "76fc45a3",
   "metadata": {},
   "source": [
    "#### Overview (through pandas.describe())"
   ]
  },
  {
   "cell_type": "code",
   "execution_count": 88,
   "id": "5992095b",
   "metadata": {},
   "outputs": [
    {
     "data": {
      "text/html": [
       "<div>\n",
       "<style scoped>\n",
       "    .dataframe tbody tr th:only-of-type {\n",
       "        vertical-align: middle;\n",
       "    }\n",
       "\n",
       "    .dataframe tbody tr th {\n",
       "        vertical-align: top;\n",
       "    }\n",
       "\n",
       "    .dataframe thead th {\n",
       "        text-align: right;\n",
       "    }\n",
       "</style>\n",
       "<table border=\"1\" class=\"dataframe\">\n",
       "  <thead>\n",
       "    <tr style=\"text-align: right;\">\n",
       "      <th></th>\n",
       "      <th>Age</th>\n",
       "      <th>CPK</th>\n",
       "      <th>Hemoglobin</th>\n",
       "      <th>BloodPressRest</th>\n",
       "      <th>cholestoral</th>\n",
       "      <th>MaxHeartRate</th>\n",
       "    </tr>\n",
       "  </thead>\n",
       "  <tbody>\n",
       "    <tr>\n",
       "      <th>count</th>\n",
       "      <td>288.000000</td>\n",
       "      <td>288.000000</td>\n",
       "      <td>288.000000</td>\n",
       "      <td>288.000000</td>\n",
       "      <td>288.000000</td>\n",
       "      <td>288.000000</td>\n",
       "    </tr>\n",
       "    <tr>\n",
       "      <th>mean</th>\n",
       "      <td>54.750000</td>\n",
       "      <td>597.736111</td>\n",
       "      <td>13.900347</td>\n",
       "      <td>133.687500</td>\n",
       "      <td>244.319444</td>\n",
       "      <td>141.402778</td>\n",
       "    </tr>\n",
       "    <tr>\n",
       "      <th>std</th>\n",
       "      <td>8.832944</td>\n",
       "      <td>1025.683503</td>\n",
       "      <td>2.093336</td>\n",
       "      <td>18.946272</td>\n",
       "      <td>44.215367</td>\n",
       "      <td>23.820414</td>\n",
       "    </tr>\n",
       "    <tr>\n",
       "      <th>min</th>\n",
       "      <td>24.000000</td>\n",
       "      <td>52.000000</td>\n",
       "      <td>9.100000</td>\n",
       "      <td>100.000000</td>\n",
       "      <td>131.000000</td>\n",
       "      <td>71.000000</td>\n",
       "    </tr>\n",
       "    <tr>\n",
       "      <th>25%</th>\n",
       "      <td>52.000000</td>\n",
       "      <td>135.000000</td>\n",
       "      <td>12.300000</td>\n",
       "      <td>120.000000</td>\n",
       "      <td>206.000000</td>\n",
       "      <td>122.750000</td>\n",
       "    </tr>\n",
       "    <tr>\n",
       "      <th>50%</th>\n",
       "      <td>55.000000</td>\n",
       "      <td>203.000000</td>\n",
       "      <td>14.200000</td>\n",
       "      <td>130.000000</td>\n",
       "      <td>243.000000</td>\n",
       "      <td>144.000000</td>\n",
       "    </tr>\n",
       "    <tr>\n",
       "      <th>75%</th>\n",
       "      <td>60.000000</td>\n",
       "      <td>446.000000</td>\n",
       "      <td>15.500000</td>\n",
       "      <td>144.000000</td>\n",
       "      <td>282.000000</td>\n",
       "      <td>160.000000</td>\n",
       "    </tr>\n",
       "    <tr>\n",
       "      <th>max</th>\n",
       "      <td>77.000000</td>\n",
       "      <td>4289.000000</td>\n",
       "      <td>18.000000</td>\n",
       "      <td>200.000000</td>\n",
       "      <td>353.000000</td>\n",
       "      <td>195.000000</td>\n",
       "    </tr>\n",
       "  </tbody>\n",
       "</table>\n",
       "</div>"
      ],
      "text/plain": [
       "              Age          CPK  Hemoglobin  BloodPressRest  cholestoral  \\\n",
       "count  288.000000   288.000000  288.000000      288.000000   288.000000   \n",
       "mean    54.750000   597.736111   13.900347      133.687500   244.319444   \n",
       "std      8.832944  1025.683503    2.093336       18.946272    44.215367   \n",
       "min     24.000000    52.000000    9.100000      100.000000   131.000000   \n",
       "25%     52.000000   135.000000   12.300000      120.000000   206.000000   \n",
       "50%     55.000000   203.000000   14.200000      130.000000   243.000000   \n",
       "75%     60.000000   446.000000   15.500000      144.000000   282.000000   \n",
       "max     77.000000  4289.000000   18.000000      200.000000   353.000000   \n",
       "\n",
       "       MaxHeartRate  \n",
       "count    288.000000  \n",
       "mean     141.402778  \n",
       "std       23.820414  \n",
       "min       71.000000  \n",
       "25%      122.750000  \n",
       "50%      144.000000  \n",
       "75%      160.000000  \n",
       "max      195.000000  "
      ]
     },
     "execution_count": 88,
     "metadata": {},
     "output_type": "execute_result"
    }
   ],
   "source": [
    "# Group with Mortality = \"YES\"\n",
    "df_categorical[df_categorical[\"Mortality\"]==\"YES\"].describe()"
   ]
  },
  {
   "cell_type": "code",
   "execution_count": 87,
   "id": "d84c9703",
   "metadata": {},
   "outputs": [
    {
     "data": {
      "text/html": [
       "<div>\n",
       "<style scoped>\n",
       "    .dataframe tbody tr th:only-of-type {\n",
       "        vertical-align: middle;\n",
       "    }\n",
       "\n",
       "    .dataframe tbody tr th {\n",
       "        vertical-align: top;\n",
       "    }\n",
       "\n",
       "    .dataframe thead th {\n",
       "        text-align: right;\n",
       "    }\n",
       "</style>\n",
       "<table border=\"1\" class=\"dataframe\">\n",
       "  <thead>\n",
       "    <tr style=\"text-align: right;\">\n",
       "      <th></th>\n",
       "      <th>Age</th>\n",
       "      <th>CPK</th>\n",
       "      <th>Hemoglobin</th>\n",
       "      <th>BloodPressRest</th>\n",
       "      <th>cholestoral</th>\n",
       "      <th>MaxHeartRate</th>\n",
       "    </tr>\n",
       "  </thead>\n",
       "  <tbody>\n",
       "    <tr>\n",
       "      <th>count</th>\n",
       "      <td>80.000000</td>\n",
       "      <td>80.00000</td>\n",
       "      <td>80.000000</td>\n",
       "      <td>80.000000</td>\n",
       "      <td>80.00000</td>\n",
       "      <td>80.000000</td>\n",
       "    </tr>\n",
       "    <tr>\n",
       "      <th>mean</th>\n",
       "      <td>52.650000</td>\n",
       "      <td>396.03750</td>\n",
       "      <td>13.935000</td>\n",
       "      <td>129.337500</td>\n",
       "      <td>265.57500</td>\n",
       "      <td>139.200000</td>\n",
       "    </tr>\n",
       "    <tr>\n",
       "      <th>std</th>\n",
       "      <td>8.133537</td>\n",
       "      <td>637.07191</td>\n",
       "      <td>2.399267</td>\n",
       "      <td>14.790472</td>\n",
       "      <td>64.90261</td>\n",
       "      <td>19.777496</td>\n",
       "    </tr>\n",
       "    <tr>\n",
       "      <th>min</th>\n",
       "      <td>38.000000</td>\n",
       "      <td>52.00000</td>\n",
       "      <td>10.000000</td>\n",
       "      <td>110.000000</td>\n",
       "      <td>167.00000</td>\n",
       "      <td>97.000000</td>\n",
       "    </tr>\n",
       "    <tr>\n",
       "      <th>25%</th>\n",
       "      <td>46.000000</td>\n",
       "      <td>139.75000</td>\n",
       "      <td>11.700000</td>\n",
       "      <td>118.000000</td>\n",
       "      <td>231.75000</td>\n",
       "      <td>130.250000</td>\n",
       "    </tr>\n",
       "    <tr>\n",
       "      <th>50%</th>\n",
       "      <td>50.000000</td>\n",
       "      <td>149.00000</td>\n",
       "      <td>14.200000</td>\n",
       "      <td>130.000000</td>\n",
       "      <td>263.50000</td>\n",
       "      <td>144.000000</td>\n",
       "    </tr>\n",
       "    <tr>\n",
       "      <th>75%</th>\n",
       "      <td>61.250000</td>\n",
       "      <td>319.75000</td>\n",
       "      <td>16.500000</td>\n",
       "      <td>142.000000</td>\n",
       "      <td>309.00000</td>\n",
       "      <td>154.000000</td>\n",
       "    </tr>\n",
       "    <tr>\n",
       "      <th>max</th>\n",
       "      <td>63.000000</td>\n",
       "      <td>2920.00000</td>\n",
       "      <td>18.000000</td>\n",
       "      <td>174.000000</td>\n",
       "      <td>409.00000</td>\n",
       "      <td>177.000000</td>\n",
       "    </tr>\n",
       "  </tbody>\n",
       "</table>\n",
       "</div>"
      ],
      "text/plain": [
       "             Age         CPK  Hemoglobin  BloodPressRest  cholestoral  \\\n",
       "count  80.000000    80.00000   80.000000       80.000000     80.00000   \n",
       "mean   52.650000   396.03750   13.935000      129.337500    265.57500   \n",
       "std     8.133537   637.07191    2.399267       14.790472     64.90261   \n",
       "min    38.000000    52.00000   10.000000      110.000000    167.00000   \n",
       "25%    46.000000   139.75000   11.700000      118.000000    231.75000   \n",
       "50%    50.000000   149.00000   14.200000      130.000000    263.50000   \n",
       "75%    61.250000   319.75000   16.500000      142.000000    309.00000   \n",
       "max    63.000000  2920.00000   18.000000      174.000000    409.00000   \n",
       "\n",
       "       MaxHeartRate  \n",
       "count     80.000000  \n",
       "mean     139.200000  \n",
       "std       19.777496  \n",
       "min       97.000000  \n",
       "25%      130.250000  \n",
       "50%      144.000000  \n",
       "75%      154.000000  \n",
       "max      177.000000  "
      ]
     },
     "execution_count": 87,
     "metadata": {},
     "output_type": "execute_result"
    }
   ],
   "source": [
    "# Group with Mortality = \"NO\"\n",
    "df_categorical[df_categorical[\"Mortality\"]==\"NO\"].describe()"
   ]
  },
  {
   "cell_type": "markdown",
   "id": "18a3e8fd",
   "metadata": {},
   "source": [
    "#### Age"
   ]
  },
  {
   "cell_type": "code",
   "execution_count": 15,
   "id": "88b9eb64",
   "metadata": {},
   "outputs": [
    {
     "data": {
      "text/plain": [
       "<Figure size 1440x360 with 0 Axes>"
      ]
     },
     "metadata": {},
     "output_type": "display_data"
    },
    {
     "data": {
      "image/png": "[encoded data removed]",
      "text/plain": [
       "<Figure size 886.5x468 with 1 Axes>"
      ]
     },
     "metadata": {
      "needs_background": "light"
     },
     "output_type": "display_data"
    }
   ],
   "source": [
    "plt.figure(figsize=(20,5))\n",
    "\n",
    "graph = sns.displot(data=df_categorical, x=\"Age\", kde=True, hue=\"Mortality\", multiple=\"dodge\", height=6.5, aspect=16/9)\n",
    "\n",
    "graph.set(title=\"Distribution graph taking Heart Failure's Family History\")\n",
    "\n",
    "plt.show()"
   ]
  },
  {
   "cell_type": "markdown",
   "id": "8c893373",
   "metadata": {},
   "source": [
    "It looks like there were a higher concentration of mortality around the ages 50 - 65. But we need to be careful when analysing this graph, because it is only counting the total of deads (Mortality = Yes) and survivals (Mortality = No) by their age, not considering the total people by age. <br> To better understand this relationship we are going to create a new graph where we can see the relative mortality's couting for each group."
   ]
  },
  {
   "cell_type": "code",
   "execution_count": 16,
   "id": "558cc254",
   "metadata": {},
   "outputs": [
    {
     "data": {
      "text/plain": [
       "<Figure size 1440x360 with 0 Axes>"
      ]
     },
     "metadata": {},
     "output_type": "display_data"
    },
    {
     "data": {
      "image/png": "[encoded data removed]",
      "text/plain": [
       "<Figure size 886.5x468 with 1 Axes>"
      ]
     },
     "metadata": {
      "needs_background": "light"
     },
     "output_type": "display_data"
    }
   ],
   "source": [
    "plt.figure(figsize=(20,5))\n",
    "\n",
    "graph = sns.displot(data=df_categorical, x=\"Age\", hue=\"Mortality\", multiple=\"fill\", height=6.5, aspect=16/9)\n",
    "\n",
    "graph.set(title=\"Distribution graph Age (with relative mortality's counting)\")\n",
    "\n",
    "plt.show()"
   ]
  },
  {
   "cell_type": "markdown",
   "id": "940241d5",
   "metadata": {},
   "source": [
    "#### Gender"
   ]
  },
  {
   "cell_type": "markdown",
   "id": "df363679",
   "metadata": {},
   "source": [
    "#### Family History"
   ]
  },
  {
   "cell_type": "code",
   "execution_count": 17,
   "id": "e0d156f9",
   "metadata": {},
   "outputs": [
    {
     "data": {
      "image/png": "[encoded data removed]",
      "text/plain": [
       "<Figure size 414.5x360 with 1 Axes>"
      ]
     },
     "metadata": {
      "needs_background": "light"
     },
     "output_type": "display_data"
    }
   ],
   "source": [
    "graph = sns.catplot(data=df_categorical, x=\"Family.History\", kind=\"count\", hue=\"Mortality\")\n",
    "\n",
    "graph.set(title=\"Distribution graph taking Heart Failure's Family History\")\n",
    "\n",
    "plt.show()"
   ]
  },
  {
   "cell_type": "markdown",
   "id": "c9beaf50",
   "metadata": {},
   "source": [
    "#### Diabetes"
   ]
  },
  {
   "cell_type": "code",
   "execution_count": 18,
   "id": "9cf52622",
   "metadata": {},
   "outputs": [
    {
     "data": {
      "image/png": "[encoded data removed]",
      "text/plain": [
       "<Figure size 414.5x360 with 1 Axes>"
      ]
     },
     "metadata": {
      "needs_background": "light"
     },
     "output_type": "display_data"
    }
   ],
   "source": [
    "graph = sns.catplot(data=df_categorical, x=\"Diabetes\", kind=\"count\", hue=\"Mortality\")\n",
    "\n",
    "graph.set(title=\"Distribution graph Diabetes\")\n",
    "\n",
    "plt.show()"
   ]
  },
  {
   "cell_type": "markdown",
   "id": "44ab9779",
   "metadata": {},
   "source": [
    "#### Smoking"
   ]
  },
  {
   "cell_type": "code",
   "execution_count": 19,
   "id": "30b8b618",
   "metadata": {},
   "outputs": [
    {
     "data": {
      "image/png": "[encoded data removed]",
      "text/plain": [
       "<Figure size 414.5x360 with 1 Axes>"
      ]
     },
     "metadata": {
      "needs_background": "light"
     },
     "output_type": "display_data"
    }
   ],
   "source": [
    "graph = sns.catplot(data=df_categorical, x=\"Smoking\", kind=\"count\", hue=\"Mortality\")\n",
    "\n",
    "graph.set(title=\"Distribution graph Smoking\")\n",
    "\n",
    "plt.show()"
   ]
  },
  {
   "cell_type": "markdown",
   "id": "6fc81f1d",
   "metadata": {},
   "source": [
    "#### Depression"
   ]
  },
  {
   "cell_type": "code",
   "execution_count": 90,
   "id": "71d4413f",
   "metadata": {},
   "outputs": [
    {
     "data": {
      "image/png": "[encoded data removed]",
      "text/plain": [
       "<Figure size 414.5x360 with 1 Axes>"
      ]
     },
     "metadata": {
      "needs_background": "light"
     },
     "output_type": "display_data"
    }
   ],
   "source": [
    "graph = sns.catplot(data=df_categorical, x=\"Depression\", kind=\"count\", hue=\"Mortality\")\n",
    "\n",
    "graph.set(title=\"Distribution graph Depression\")\n",
    "\n",
    "plt.show()"
   ]
  },
  {
   "cell_type": "markdown",
   "id": "a04e5ad8",
   "metadata": {},
   "source": [
    "#### CPK"
   ]
  },
  {
   "cell_type": "code",
   "execution_count": 66,
   "id": "343a3193",
   "metadata": {},
   "outputs": [
    {
     "data": {
      "image/png": "[encoded data removed]",
      "text/plain": [
       "<Figure size 324x576 with 1 Axes>"
      ]
     },
     "metadata": {
      "needs_background": "light"
     },
     "output_type": "display_data"
    }
   ],
   "source": [
    "graph = sns.catplot(data=df_categorical, y=\"CPK\", x=\"Mortality\", kind=\"box\",  height=8, aspect=9/16)\n",
    "\n",
    "graph.set(title=\"Boxplot CPK x Mortality\")\n",
    "\n",
    "plt.show()"
   ]
  },
  {
   "cell_type": "markdown",
   "id": "aed7d178",
   "metadata": {},
   "source": [
    "Looking over the boxplot, we can see discordants outliers for both Mortality's groups. After a deeper research about this variable and its meaning, some informations may be useful for better understanding:\n",
    "- The CPK (Creatine Phosphokinase) is an enzyme in the body.\n",
    "    - It is found mainly in the heart, brain, and skeletal muscle.\n",
    "- The Reference Range of the CPK Test\n",
    "    - Adult Male: 21 to 232 IU/L\n",
    "    - Adult Female: 21 to 215 IU/L\n",
    "- High CPK levels may be an indication of damage to CK-rich tissue (like myocardial tissue)"
   ]
  },
  {
   "cell_type": "markdown",
   "id": "3ed0cd26",
   "metadata": {},
   "source": [
    "As the outliers tend to increase our range of values, we are going to focus the visualization by recreating the plot above with a smaller range of y-axis."
   ]
  },
  {
   "cell_type": "code",
   "execution_count": 76,
   "id": "8014d353",
   "metadata": {},
   "outputs": [
    {
     "data": {
      "image/png": "[encoded data removed]",
      "text/plain": [
       "<Figure size 324x576 with 1 Axes>"
      ]
     },
     "metadata": {
      "needs_background": "light"
     },
     "output_type": "display_data"
    }
   ],
   "source": [
    "graph = sns.catplot(data=df_categorical, y=\"CPK\", x=\"Mortality\", kind=\"box\",  height=8, aspect=9/16)\n",
    "\n",
    "graph.set(title=\"Boxplot CPK x Mortality\", ylim=(0,1000))\n",
    "\n",
    "plt.show()"
   ]
  },
  {
   "cell_type": "markdown",
   "id": "5b334e58",
   "metadata": {},
   "source": [
    "Now it's better to notice the diference between the group's quartiles. The \"YES-Mortality\" group has wider quartile distribution, taking higher CPK levels when compared with the \"NO-Mortality\" group.\n",
    "<br>\n",
    "Still looking to explore this relationship, we're going to delete some outliers based on a z-score of 2. (It means that we will deal with the data that areup to 2 standard desviation from the mean)"
   ]
  },
  {
   "cell_type": "code",
   "execution_count": 82,
   "id": "0a876435",
   "metadata": {},
   "outputs": [
    {
     "data": {
      "image/png": "[encoded data removed]",
      "text/plain": [
       "<Figure size 324x576 with 1 Axes>"
      ]
     },
     "metadata": {
      "needs_background": "light"
     },
     "output_type": "display_data"
    }
   ],
   "source": [
    "# New DataFrame with Mortality and CPK columns\n",
    "df_cpk = df_categorical[[\"Mortality\",\"CPK\"]]\n",
    "\n",
    "# Excluding outliers (Z-score > 2)\n",
    "df_cpk = df_cpk[(np.abs(stats.zscore(df_cpk[\"CPK\"])) < 2)]\n",
    "\n",
    "# Plotting Graph\n",
    "graph = sns.catplot(data=df_cpk, y=\"CPK\", x=\"Mortality\", kind=\"box\",  height=8, aspect=9/16)\n",
    "\n",
    "graph.set(title=\"Boxplot CPK x Mortality\")\n",
    "\n",
    "plt.show()"
   ]
  },
  {
   "cell_type": "markdown",
   "id": "091c1793",
   "metadata": {},
   "source": [
    "It looks like the diference between quartiles reduced after we exclude the outliers (2 standard desviations distance)."
   ]
  },
  {
   "cell_type": "markdown",
   "id": "8997ca1b",
   "metadata": {},
   "source": [
    "#### Hemoglobin"
   ]
  },
  {
   "cell_type": "code",
   "execution_count": 84,
   "id": "53f67d06",
   "metadata": {},
   "outputs": [
    {
     "data": {
      "image/png": "[encoded data removed]",
      "text/plain": [
       "<Figure size 324x576 with 1 Axes>"
      ]
     },
     "metadata": {
      "needs_background": "light"
     },
     "output_type": "display_data"
    }
   ],
   "source": [
    "graph = sns.catplot(data=df_categorical, y=\"Hemoglobin\", x=\"Mortality\", kind=\"box\",  height=8, aspect=9/16)\n",
    "\n",
    "graph.set(title=\"Boxplot Hemoglobin x Mortality\")\n",
    "\n",
    "plt.show()"
   ]
  },
  {
   "cell_type": "markdown",
   "id": "bc157eee",
   "metadata": {},
   "source": [
    "It seems that there aren't great diferences between the groups. The median are almost the same; the \"NO-Mortality\" has a wider range between Q1 and Q3, while \"YES-Mortality\" reaches lower Hemoglobin levels ."
   ]
  },
  {
   "cell_type": "markdown",
   "id": "ed01668f",
   "metadata": {},
   "source": [
    "#### Blood Pression Rest"
   ]
  },
  {
   "cell_type": "markdown",
   "id": "f2d22e04",
   "metadata": {},
   "source": [
    "#### Cholestoral"
   ]
  },
  {
   "cell_type": "markdown",
   "id": "c0798477",
   "metadata": {},
   "source": [
    "#### Max Heart Rate"
   ]
  },
  {
   "cell_type": "markdown",
   "id": "91e46249",
   "metadata": {},
   "source": [
    "### Analysing multiple relationships between variables"
   ]
  },
  {
   "cell_type": "code",
   "execution_count": 22,
   "id": "7780f74a",
   "metadata": {},
   "outputs": [
    {
     "data": {
      "image/png": "[encoded data removed]",
      "text/plain": [
       "<Figure size 774.5x360 with 2 Axes>"
      ]
     },
     "metadata": {
      "needs_background": "light"
     },
     "output_type": "display_data"
    }
   ],
   "source": [
    "# Graph relating Diabetes, Smoking and Mortality\n",
    "#TODO (This relational Graph may be showed later)\n",
    "catplot_m_d_s = sns.catplot(data=df_categorical, x=\"Smoking\", kind=\"count\", hue=\"Mortality\", col=\"Diabetes\")\n",
    "\n",
    "plt.show()"
   ]
  },
  {
   "cell_type": "code",
   "execution_count": 23,
   "id": "a44dba21",
   "metadata": {},
   "outputs": [
    {
     "data": {
      "image/png": "[encoded data removed]",
      "text/plain": [
       "<Figure size 576x864 with 2 Axes>"
      ]
     },
     "metadata": {
      "needs_background": "light"
     },
     "output_type": "display_data"
    }
   ],
   "source": [
    "# Graph for the Pearson Correlation between \"Mortality\" and the others variables\n",
    "# TODO (This graph may be later or change to a heatmap between all variables)\n",
    "plt.figure(figsize=(8,12))\n",
    "\n",
    "corr_mortality = df_numeric.corr()[['Mortality']].sort_values(by=\"Mortality\", ascending=False)\n",
    "\n",
    "heatmap = sns.heatmap(corr_mortality, vmax=1,vmin=-1, annot=True, cmap=\"viridis\")\n",
    "\n",
    "heatmap.set(title=\"Mortality Correlation\")\n",
    "\n",
    "plt.show()"
   ]
  },
  {
   "cell_type": "code",
   "execution_count": 24,
   "id": "ffae82bf",
   "metadata": {},
   "outputs": [],
   "source": [
    "#TODO\n",
    "# Think about a scatter plot to relate variables"
   ]
  }
 ],
 "metadata": {
  "kernelspec": {
   "display_name": "Python 3 (ipykernel)",
   "language": "python",
   "name": "python3"
  },
  "language_info": {
   "codemirror_mode": {
    "name": "ipython",
    "version": 3
   },
   "file_extension": ".py",
   "mimetype": "text/x-python",
   "name": "python",
   "nbconvert_exporter": "python",
   "pygments_lexer": "ipython3",
   "version": "3.9.7"
  }
 },
 "nbformat": 4,
 "nbformat_minor": 5
}
